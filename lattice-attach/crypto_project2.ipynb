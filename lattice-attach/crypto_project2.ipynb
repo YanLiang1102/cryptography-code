{
 "cells": [
  {
   "cell_type": "code",
   "execution_count": 140,
   "metadata": {},
   "outputs": [
    {
     "ename": "ModuleNotFoundError",
     "evalue": "No module named 'sage.all'",
     "output_type": "error",
     "traceback": [
      "\u001b[0;31m---------------------------------------------------------------------------\u001b[0m",
      "\u001b[0;31mModuleNotFoundError\u001b[0m                       Traceback (most recent call last)",
      "\u001b[0;32m<ipython-input-140-02228c513b6c>\u001b[0m in \u001b[0;36m<module>\u001b[0;34m()\u001b[0m\n\u001b[1;32m      2\u001b[0m \u001b[0;32mimport\u001b[0m \u001b[0mos\u001b[0m\u001b[0;34m\u001b[0m\u001b[0m\n\u001b[1;32m      3\u001b[0m \u001b[0;32mimport\u001b[0m \u001b[0mpickle\u001b[0m\u001b[0;34m\u001b[0m\u001b[0m\n\u001b[0;32m----> 4\u001b[0;31m \u001b[0;32mfrom\u001b[0m \u001b[0msage\u001b[0m\u001b[0;34m.\u001b[0m\u001b[0mall\u001b[0m \u001b[0;32mimport\u001b[0m \u001b[0;34m*\u001b[0m\u001b[0;34m\u001b[0m\u001b[0m\n\u001b[0m\u001b[1;32m      5\u001b[0m \u001b[0;32mimport\u001b[0m \u001b[0mrandom\u001b[0m\u001b[0;34m\u001b[0m\u001b[0m\n\u001b[1;32m      6\u001b[0m \u001b[0;32mimport\u001b[0m \u001b[0mmath\u001b[0m\u001b[0;34m\u001b[0m\u001b[0m\n",
      "\u001b[0;31mModuleNotFoundError\u001b[0m: No module named 'sage.all'"
     ]
    }
   ],
   "source": [
    "import sys\n",
    "import os\n",
    "import pickle\n",
    "from sage.all import *\n",
    "import random\n",
    "import math\n",
    "import pickle\n",
    "\n",
    "def getMlist(mlist):\n",
    "    #with open('/Users/yanliang/cryptography/madata.data', 'a') as the_file:\n",
    "    p=2;\n",
    "    count=0;\n",
    "    while(count<100):\n",
    "        #data=math.floor((p)**(1/3)*(10**100));\n",
    "        data=math.floor(((p).n(prec=1000).nth_root(3))*(10**100))\n",
    "        #the_file.write(str(data)+'\\n');\n",
    "        mlist.append(data);\n",
    "        count=count+1;\n",
    "        p=next_prime(p)\n",
    "    return mlist;\n",
    "    \n",
    "def generateRandomArray():\n",
    "    ar=[];\n",
    "    for i in range(0,100):\n",
    "        if(random.uniform(0, 1)<=0.5):\n",
    "            ar.append(0);\n",
    "        else:\n",
    "            ar.append(1);\n",
    "def meetInTheMiddle():\n",
    "    ar=generateRandomArray();\n",
    "\n",
    "dataarray=[];\n",
    "def printSubset(A,size,mlist):\n",
    "    globalsum=0;\n",
    "    for i in range(0,size):\n",
    "        print(A[i]);\n",
    "        #dataarray.append(A[i]);\n",
    "        print(getindex(mlist,A[i]))\n",
    "        #globalsum=globalsum+A[i]\n",
    "    print(\"end\");\n",
    "    \n",
    "\n",
    "def subset_sum(s,t,s_size,t_size,sum0,ite,target_sum,minresult):\n",
    "    tsize=[None]*(t_size);\n",
    "    #sum0 is the currentsum:\n",
    "    if(sum0-target_sum>0 and sum0-target_sum<minresult[0]):\n",
    "        minresult[0]=sum0-target_sum\n",
    "        for i in range(0,t_size):\n",
    "            print(s[i]);\n",
    "        print(\"end in the middle\")\n",
    "    #total_node=total_node+1;\n",
    "    if(target_sum==sum0): #then we find the sum\n",
    "        printSubset(t,t_size,s);\n",
    "        #constraint check\n",
    "        if(ite+1<s_size  and sum0-s[ite]+s[ite+1]<=target_sum):\n",
    "            subset_sum(s,t,s_size,t_size-1,sum0-s[ite],ite+1,target_sum,minresult);\n",
    "        return;\n",
    "    else:\n",
    "        if(ite<s_size and sum0+s[ite]<=target_sum):\n",
    "            for i in range(ite,s_size):\n",
    "                t[t_size]=s[i];\n",
    "                if(sum0+s[i]<=target_sum):\n",
    "                    subset_sum(s,t,s_size,t_size+1,sum0+s[i],i+1,target_sum,minresult);\n",
    "\n",
    "tuplet_vector=[None]*100\n",
    "def generateSubsets(s,size,target_sum,minresult):\n",
    "    total=0;\n",
    "    for i in range(0,size):\n",
    "        total=total+s[i]\n",
    "    if(s[0]<= target_sum and total>=target_sum): #then we can go deeper\n",
    "        subset_sum(s,tuplet_vector,size,0,0,0,target_sum,minresult);   \n",
    "\n",
    "def getnthroot(data):\n",
    "    return math.floor((data.n(prec=1000).nth_root(3))*(10**100));\n",
    "def getindex(l,data):\n",
    "    for i in range(0,len(l)):\n",
    "        if data==l[i]:\n",
    "            return i;\n",
    "    return -1;\n",
    "    \n",
    "def main():\n",
    "    mlist=[]\n",
    "    weights=getMlist(mlist)\n",
    "    #target = 2*112889478*(10**94);\n",
    "    target=getnthroot(2)+getnthroot(5)+getnthroot(19)+getnthroot(101);\n",
    "    size =len(weights);\n",
    "    print(\"length should be 100: \"+str(size));\n",
    "    minresult.append(100*10*(10**100))\n",
    "    generateSubsets(weights, size, target,minresult); \n",
    "if __name__ == \"__main__\":\n",
    "    main()"
   ]
  },
  {
   "cell_type": "code",
   "execution_count": null,
   "metadata": {
    "collapsed": true
   },
   "outputs": [],
   "source": [
    "import sys\n",
    "import os\n",
    "import pickle\n",
    "from sage.all import *\n",
    "import random\n",
    "import math\n",
    "\n",
    "def getMlist(mlist):\n",
    "    #with open('/Users/yanliang/cryptography/madata.data', 'a') as the_file:\n",
    "    p=2;\n",
    "    count=0;\n",
    "    while(count<100):\n",
    "        #data=math.floor((p)**(1/3)*(10**100));\n",
    "        data=math.floor(((p).n(prec=1000).nth_root(3))*(10**100))\n",
    "        #the_file.write(str(data)+'\\n');\n",
    "        mlist.append(data);\n",
    "        count=count+1;\n",
    "        p=next_prime(p)\n",
    "    return mlist;\n",
    "    \n",
    "def generateRandomArray():\n",
    "    ar=[];\n",
    "    for i in range(0,100):\n",
    "        if(random.uniform(0, 1)<=0.5):\n",
    "            ar.append(0);\n",
    "        else:\n",
    "            ar.append(1);\n",
    "def meetInTheMiddle():\n",
    "    ar=generateRandomArray();\n",
    "\n",
    "dataarray=[];\n",
    "def printSubset(A,size,mlist):\n",
    "    globalsum=0;\n",
    "    for i in range(0,size):\n",
    "        print(A[i]);\n",
    "        #dataarray.append(A[i]);\n",
    "        print(getindex(mlist,A[i]))\n",
    "        #globalsum=globalsum+A[i]\n",
    "    print(\"end\");\n",
    "    \n",
    "\n",
    "def subset_sum(s,t,s_size,t_size,sum0,ite,target_sum,minresult):\n",
    "    tsize=[None]*(t_size);\n",
    "    #total_node=total_node+1;\n",
    "    if(target_sum==sum0): #then we find the sum\n",
    "        printSubset(t,t_size,s);\n",
    "        #constraint check\n",
    "        if(ite+1<s_size):\n",
    "            subset_sum(s,t,s_size,t_size-1,sum0-s[ite],ite+1,target_sum,minresult);\n",
    "        return;\n",
    "    else:\n",
    "        if(ite<s_size):\n",
    "            for i in range(ite,s_size):\n",
    "                t[t_size]=s[i];\n",
    "                #if(sum0+s[i]<=target_sum):\n",
    "                subset_sum(s,t,s_size,t_size+1,sum0+s[i],i+1,target_sum,minresult);\n",
    "\n",
    "tuplet_vector=[None]*100\n",
    "def generateSubsets(s,size,target_sum,minresult):\n",
    "    total=0;\n",
    "    for i in range(0,size):\n",
    "        total=total+s[i]\n",
    "    if(s[0]<= target_sum and total>=target_sum): #then we can go deeper\n",
    "        subset_sum(s,tuplet_vector,size,0,0,0,target_sum,minresult);   \n",
    "\n",
    "def getnthroot(data):\n",
    "    return math.floor((data.n(prec=1000).nth_root(3))*(10**100));\n",
    "def getindex(l,data):\n",
    "    for i in range(0,len(l)):\n",
    "        if data==l[i]:\n",
    "            return i;\n",
    "    return -1;\n",
    "    \n",
    "def main():\n",
    "    mlist=[]\n",
    "    weights=getMlist(mlist)\n",
    "    #target = 2*112889478*(10**94);\n",
    "    #mm=constructMatrix(target,weights)\n",
    "    target=getnthroot(2)+getnthroot(5)+getnthroot(19)+getnthroot(101);\n",
    "    size =len(weights);\n",
    "    print(\"length should be 100: \"+str(size));\n",
    "    minresult.append(100*10*(10**100))\n",
    "    generateSubsets(weights, size, target,minresult); \n",
    "if __name__ == \"__main__\":\n",
    "    main()"
   ]
  },
  {
   "cell_type": "code",
   "execution_count": null,
   "metadata": {
    "collapsed": true
   },
   "outputs": [],
   "source": []
  },
  {
   "cell_type": "code",
   "execution_count": 52,
   "metadata": {
    "collapsed": true
   },
   "outputs": [],
   "source": [
    "def printSubset(A,size):\n",
    "    for i in range(0,size):\n",
    "        print(A[i]);\n",
    "    print(\"n\");"
   ]
  },
  {
   "cell_type": "code",
   "execution_count": 53,
   "metadata": {
    "collapsed": true
   },
   "outputs": [],
   "source": [
    "def subset_sum(s,t,s_size,t_size,sum0,ite,target_sum):\n",
    "    tsize=[None]*(t_size);\n",
    "    #total_node=total_node+1;\n",
    "    if(target_sum==sum0): #then we find the sum\n",
    "        printSubset(t,t_size);\n",
    "        #constraint check\n",
    "        if(ite+1<s_size  and sum0-s[ite]+s[ite+1]<=target_sum):\n",
    "            subset_sum(s,t,s_size,t_size-1,sum0-s[ite],ite+1,target_sum);\n",
    "        return;\n",
    "    else:\n",
    "        if(ite<s_size and sum0+s[ite]<=target_sum):\n",
    "            for i in range(ite,s_size):\n",
    "                t[t_size]=s[i];\n",
    "                if(sum0+s[i]<=target_sum):\n",
    "                    subset_sum(s,t,s_size,t_size+1,sum0+s[i],i+1,target_sum);"
   ]
  },
  {
   "cell_type": "code",
   "execution_count": 54,
   "metadata": {},
   "outputs": [],
   "source": [
    "tuplet_vector=[None]*100\n",
    "def generateSubsets(s,size,target_sum):\n",
    "    total=0;\n",
    "    for i in range(0,size):\n",
    "        total=total+s[i]\n",
    "    if(s[0]<= target_sum and total>=target_sum): #then we can go deeper\n",
    "        subset_sum(s,tuplet_vector,size,0,0,0,target_sum);"
   ]
  },
  {
   "cell_type": "code",
   "execution_count": 55,
   "metadata": {},
   "outputs": [
    {
     "name": "stdout",
     "output_type": "stream",
     "text": [
      "1000\n",
      "10010\n",
      "n\n"
     ]
    }
   ],
   "source": [
    "#weights=[8, 9, 14, 15, 16, 22, 26, 32];\n",
    "weights=[1000,1001,1002,10010]\n",
    "target = 11010;\n",
    "size =len(weights);\n",
    "generateSubsets(weights, size, target);    "
   ]
  },
  {
   "cell_type": "code",
   "execution_count": 56,
   "metadata": {},
   "outputs": [
    {
     "name": "stdout",
     "output_type": "stream",
     "text": [
      "I am working\n"
     ]
    }
   ],
   "source": [
    "def main():\n",
    "    print(\"I am working\")\n",
    "if __name__ == \"__main__\":\n",
    "    main()"
   ]
  },
  {
   "cell_type": "code",
   "execution_count": 46,
   "metadata": {},
   "outputs": [
    {
     "ename": "NameError",
     "evalue": "name 'log' is not defined",
     "output_type": "error",
     "traceback": [
      "\u001b[0;31m---------------------------------------------------------------------------\u001b[0m",
      "\u001b[0;31mNameError\u001b[0m                                 Traceback (most recent call last)",
      "\u001b[0;32m<ipython-input-46-25664da11bb9>\u001b[0m in \u001b[0;36m<module>\u001b[0;34m()\u001b[0m\n\u001b[0;32m----> 1\u001b[0;31m \u001b[0mlog\u001b[0m\u001b[0;34m(\u001b[0m\u001b[0;36m10\u001b[0m\u001b[0;34m**\u001b[0m\u001b[0;36m100\u001b[0m\u001b[0;34m,\u001b[0m\u001b[0;36m2\u001b[0m\u001b[0;34m)\u001b[0m\u001b[0;34m\u001b[0m\u001b[0m\n\u001b[0m",
      "\u001b[0;31mNameError\u001b[0m: name 'log' is not defined"
     ]
    }
   ],
   "source": [
    "log(10**100,2)"
   ]
  },
  {
   "cell_type": "code",
   "execution_count": 48,
   "metadata": {
    "collapsed": true
   },
   "outputs": [],
   "source": [
    "import math"
   ]
  },
  {
   "cell_type": "code",
   "execution_count": 49,
   "metadata": {},
   "outputs": [
    {
     "ename": "TypeError",
     "evalue": "unsupported operand type(s) for ^: 'int' and 'float'",
     "output_type": "error",
     "traceback": [
      "\u001b[0;31m---------------------------------------------------------------------------\u001b[0m",
      "\u001b[0;31mTypeError\u001b[0m                                 Traceback (most recent call last)",
      "\u001b[0;32m<ipython-input-49-e7e9fa9ce489>\u001b[0m in \u001b[0;36m<module>\u001b[0;34m()\u001b[0m\n\u001b[0;32m----> 1\u001b[0;31m \u001b[0mdata1\u001b[0m\u001b[0;34m=\u001b[0m\u001b[0mmath\u001b[0m\u001b[0;34m.\u001b[0m\u001b[0mfloor\u001b[0m\u001b[0;34m(\u001b[0m\u001b[0;36m2\u001b[0m\u001b[0;34m^\u001b[0m\u001b[0;34m(\u001b[0m\u001b[0;36m1\u001b[0m\u001b[0;34m/\u001b[0m\u001b[0;36m3\u001b[0m\u001b[0;34m)\u001b[0m\u001b[0;34m*\u001b[0m\u001b[0;36m10\u001b[0m\u001b[0;34m^\u001b[0m\u001b[0;36m100\u001b[0m\u001b[0;34m)\u001b[0m\u001b[0;34m\u001b[0m\u001b[0m\n\u001b[0m",
      "\u001b[0;31mTypeError\u001b[0m: unsupported operand type(s) for ^: 'int' and 'float'"
     ]
    }
   ],
   "source": [
    "data1=math.floor(2**(1/3)*10^100)"
   ]
  },
  {
   "cell_type": "code",
   "execution_count": 51,
   "metadata": {},
   "outputs": [
    {
     "data": {
      "text/plain": [
       "1.2599210498948732"
      ]
     },
     "execution_count": 51,
     "metadata": {},
     "output_type": "execute_result"
    }
   ],
   "source": []
  },
  {
   "cell_type": "markdown",
   "metadata": {},
   "source": [
    "# play with the BKZ"
   ]
  },
  {
   "cell_type": "code",
   "execution_count": null,
   "metadata": {
    "collapsed": true
   },
   "outputs": [],
   "source": [
    "def constructMatrix(target,mlist):\n",
    "    #construct a matrix with dimension 101*101\n",
    "    dim=101\n",
    "    dim1=100;\n",
    "    mm=Matrix.identity(dim);\n",
    "    #then update the matrix;\n",
    "    mm=2*mm;\n",
    "    for i in range(0,dim1):\n",
    "        mm[i,dim1]=mlist[i]\n",
    "        mm[dim1,i]=1\n",
    "    mm[dim1,dim1]=target;\n",
    "    return mm;"
   ]
  },
  {
   "cell_type": "code",
   "execution_count": 58,
   "metadata": {
    "collapsed": true
   },
   "outputs": [],
   "source": [
    "def generateRandomArray(ar):\n",
    "    #ar=[];\n",
    "    for i in range(0,100):\n",
    "        if(i<50):\n",
    "            if(random.uniform(0, 1)<=0.7):\n",
    "                ar[i]=1;\n",
    "            else:\n",
    "                ar[i]=0;\n",
    "        else:\n",
    "            if(random.uniform(0, 1)<=0.3):\n",
    "                ar[i]=1;\n",
    "            else:\n",
    "                ar[i]=0;\n",
    "            "
   ]
  },
  {
   "cell_type": "code",
   "execution_count": null,
   "metadata": {
    "collapsed": true
   },
   "outputs": [],
   "source": [
    "\n",
    "def oneround(weights,target,mindiff,bestar):\n",
    "    ar=[0]*100;\n",
    "    generateRandomArray(ar);\n",
    "    sum1=0;\n",
    "    for i in range(0,100):\n",
    "        sum1=sum1+weights[i]*ar[i]\n",
    "    if(sum1>target and sum1-target<mindiff):\n",
    "        mindiff=sum1-target;\n",
    "        print(mindiff);\n",
    "        bestar.append(ar);\n",
    "        return mindiff;\n",
    "    else:\n",
    "        return -1;\n",
    "        \n",
    "    "
   ]
  },
  {
   "cell_type": "code",
   "execution_count": null,
   "metadata": {
    "collapsed": true
   },
   "outputs": [],
   "source": [
    "mindiff=10**103\n",
    "bestar=[]\n",
    "for i in range(0,10**4):\n",
    "    rst=oneround(weights,target,mindiff,bestar)\n",
    "    if(rst!=-1):\n",
    "        print(\"the current index is: \"+str(i))\n",
    "        mindiff=rst\n",
    "        "
   ]
  },
  {
   "cell_type": "code",
   "execution_count": null,
   "metadata": {
    "collapsed": true
   },
   "outputs": [],
   "source": [
    "def getTheSmallestIndex(weights,target):\n",
    "    sum1=0;\n",
    "    #count=0;\n",
    "    for i in range(0,len(weights)):\n",
    "        #count=count+1\n",
    "        sum1=sum1+weights[i]\n",
    "        if(sum1>target):\n",
    "            print(\"I am the diff and let me see what is the diff:\"+str(sum1-target)+\"  \"+str(i))\n",
    "            break;\n",
    "\n",
    "        \n",
    "        "
   ]
  },
  {
   "cell_type": "code",
   "execution_count": null,
   "metadata": {
    "collapsed": true
   },
   "outputs": [],
   "source": [
    "matrix([[i^j for j in range(1,4)] for i in range(6)])"
   ]
  },
  {
   "cell_type": "code",
   "execution_count": 72,
   "metadata": {
    "collapsed": true
   },
   "outputs": [],
   "source": [
    "#10^96 best lisr\n",
    "best=[0,\n",
    " 0,\n",
    " 1,\n",
    " 0,\n",
    " 0,\n",
    " 0,\n",
    " 1,\n",
    " 1,\n",
    " 0,\n",
    " 0,\n",
    " 0,\n",
    " 0,\n",
    " 0,\n",
    " 1,\n",
    " 1,\n",
    " 0,\n",
    " 0,\n",
    " 1,\n",
    " 0,\n",
    " 1,\n",
    " 0,\n",
    " 0,\n",
    " 1,\n",
    " 1,\n",
    " 1,\n",
    " 1,\n",
    " 0,\n",
    " 1,\n",
    " 1,\n",
    " 1,\n",
    " 1,\n",
    " 1,\n",
    " 0,\n",
    " 1,\n",
    " 1,\n",
    " 0,\n",
    " 0,\n",
    " 1,\n",
    " 0,\n",
    " 1,\n",
    " 1,\n",
    " 0,\n",
    " 1,\n",
    " 0,\n",
    " 1,\n",
    " 0,\n",
    " 0,\n",
    " 1,\n",
    " 0,\n",
    " 0,\n",
    " 0,\n",
    " 0,\n",
    " 0,\n",
    " 0,\n",
    " 0,\n",
    " 0,\n",
    " 1,\n",
    " 0,\n",
    " 0,\n",
    " 0,\n",
    " 0,\n",
    " 0,\n",
    " 1,\n",
    " 0,\n",
    " 0,\n",
    " 0,\n",
    " 1,\n",
    " 1,\n",
    " 1,\n",
    " 1,\n",
    " 0,\n",
    " 0,\n",
    " 0,\n",
    " 1,\n",
    " 0,\n",
    " 1,\n",
    " 1,\n",
    " 1,\n",
    " 0,\n",
    " 1,\n",
    " 0,\n",
    " 1,\n",
    " 0,\n",
    " 0,\n",
    " 0,\n",
    " 1,\n",
    " 0,\n",
    " 1,\n",
    " 0,\n",
    " 0,\n",
    " 1,\n",
    " 0,\n",
    " 0,\n",
    " 0,\n",
    " 0,\n",
    " 0,\n",
    " 0,\n",
    " 1,\n",
    " 0,\n",
    " 0]"
   ]
  },
  {
   "cell_type": "code",
   "execution_count": 80,
   "metadata": {},
   "outputs": [],
   "source": [
    "count=0\n",
    "l=[]\n",
    "for i in range(0,100):\n",
    "    if(best[i]!=0):\n",
    "        l.append(i)\n",
    "        count=count+1"
   ]
  },
  {
   "cell_type": "code",
   "execution_count": 81,
   "metadata": {},
   "outputs": [
    {
     "data": {
      "text/plain": [
       "40"
      ]
     },
     "execution_count": 81,
     "metadata": {},
     "output_type": "execute_result"
    }
   ],
   "source": [
    "count"
   ]
  },
  {
   "cell_type": "code",
   "execution_count": 60,
   "metadata": {},
   "outputs": [
    {
     "data": {
      "text/plain": [
       "100"
      ]
     },
     "execution_count": 60,
     "metadata": {},
     "output_type": "execute_result"
    }
   ],
   "source": [
    "len(best)"
   ]
  },
  {
   "cell_type": "code",
   "execution_count": 61,
   "metadata": {
    "collapsed": true
   },
   "outputs": [],
   "source": [
    "mlist=[1.259921049894873e+100,\n",
    " 1.4422495703074085e+100,\n",
    " 1.709975946676697e+100,\n",
    " 1.912931182772389e+100,\n",
    " 2.2239800905693154e+100,\n",
    " 2.3513346877207573e+100,\n",
    " 2.5712815906582355e+100,\n",
    " 2.6684016487219448e+100,\n",
    " 2.8438669798515655e+100,\n",
    " 3.0723168256858472e+100,\n",
    " 3.141380652391393e+100,\n",
    " 3.3322218516459534e+100,\n",
    " 3.4482172403827303e+100,\n",
    " 3.503398060386724e+100,\n",
    " 3.608826080138695e+100,\n",
    " 3.756285754221072e+100,\n",
    " 3.89299641587326e+100,\n",
    " 3.936497183102173e+100,\n",
    " 4.06154810044568e+100,\n",
    " 4.1408177494228534e+100,\n",
    " 4.179339196381232e+100,\n",
    " 4.2908404270262074e+100,\n",
    " 4.362070671454837e+100,\n",
    " 4.464745095584538e+100,\n",
    " 4.59470089220704e+100,\n",
    " 4.657009507803836e+100,\n",
    " 4.687548147653598e+100,\n",
    " 4.7474593985234e+100,\n",
    " 4.776856181035017e+100,\n",
    " 4.8345881271116396e+100,\n",
    " 5.026525695313479e+100,\n",
    " 5.0787530781327006e+100,\n",
    " 5.155136735475772e+100,\n",
    " 5.180101467380292e+100,\n",
    " 5.3014591923809045e+100,\n",
    " 5.325074021614987e+100,\n",
    " 5.394690712109591e+100,\n",
    " 5.462555571281398e+100,\n",
    " 5.506878446387353e+100,\n",
    " 5.572054655542623e+100,\n",
    " 5.6357407945442365e+100,\n",
    " 5.656652825822911e+100,\n",
    " 5.758965220492401e+100,\n",
    " 5.77899656515213e+100,\n",
    " 5.818647867496961e+100,\n",
    " 5.8382724608140025e+100,\n",
    " 5.953341813139051e+100,\n",
    " 6.0641269945069635e+100,\n",
    " 6.100170200393062e+100,\n",
    " 6.1180331726366206e+100,\n",
    " 6.153449493663682e+100,\n",
    " 6.2058217948957524e+100,\n",
    " 6.223084253206059e+100,\n",
    " 6.307993548663268e+100,\n",
    " 6.3578611797342006e+100,\n",
    " 6.406958577185558e+100,\n",
    " 6.455314810938886e+100,\n",
    " 6.4712736269603656e+100,\n",
    " 6.51868391517377e+100,\n",
    " 6.5499116201193754e+100,\n",
    " 6.5654144273461385e+100,\n",
    " 6.64185219534421e+100,\n",
    " 6.745996711705425e+100,\n",
    " 6.7751689522733126e+100,\n",
    " 6.789661336437484e+100,\n",
    " 6.81846194135301e+100,\n",
    " 6.917396416609225e+100,\n",
    " 6.958943337186095e+100,\n",
    " 7.027105788338388e+100,\n",
    " 7.040580616713472e+100,\n",
    " 7.067376614721955e+100,\n",
    " 7.10719366117256e+100,\n",
    " 7.159598824832771e+100,\n",
    " 7.198404996481965e+100,\n",
    " 7.236797215902505e+100,\n",
    " 7.262167439937969e+100,\n",
    " 7.299893662052676e+100,\n",
    " 7.349596596552508e+100,\n",
    " 7.374197940162813e+100,\n",
    " 7.422914120436216e+100,\n",
    " 7.482924114352578e+100,\n",
    " 7.494811225859052e+100,\n",
    " 7.55368882500193e+100,\n",
    " 7.565354772225129e+100,\n",
    " 7.60013850163107e+100,\n",
    " 7.623151930512917e+100,\n",
    " 7.657413747855265e+100,\n",
    " 7.702624618287352e+100,\n",
    " 7.725032379779305e+100,\n",
    " 7.736187676690783e+100,\n",
    " 7.75840226432052e+100,\n",
    " 7.824294185879082e+100,\n",
    " 7.867612960312844e+100,\n",
    " 7.88909460402381e+100,\n",
    " 7.931710391518468e+100,\n",
    " 7.952847627744924e+100,\n",
    " 7.984344382691074e+100,\n",
    " 8.04660299297347e+100,\n",
    " 8.056886202875549e+100,\n",
    " 8.148276449362263e+100]"
   ]
  },
  {
   "cell_type": "code",
   "execution_count": 64,
   "metadata": {},
   "outputs": [
    {
     "data": {
      "text/plain": [
       "2.519842099789746e+100"
      ]
     },
     "execution_count": 64,
     "metadata": {},
     "output_type": "execute_result"
    }
   ],
   "source": []
  },
  {
   "cell_type": "code",
   "execution_count": 65,
   "metadata": {
    "collapsed": true
   },
   "outputs": [],
   "source": [
    "target=2*112889478*(10**94)"
   ]
  },
  {
   "cell_type": "code",
   "execution_count": 71,
   "metadata": {},
   "outputs": [
    {
     "data": {
      "text/plain": [
       "2257789560000000000000000000000000000000000000000000000000000000000000000000000000000000000000000000000"
      ]
     },
     "execution_count": 71,
     "metadata": {},
     "output_type": "execute_result"
    }
   ],
   "source": [
    "target"
   ]
  },
  {
   "cell_type": "code",
   "execution_count": 157,
   "metadata": {
    "collapsed": true
   },
   "outputs": [],
   "source": [
    "sum1=0\n",
    "for i in range(0,100):\n",
    "    sum1=sum1+mlist[i]*ar[i]"
   ]
  },
  {
   "cell_type": "code",
   "execution_count": 159,
   "metadata": {},
   "outputs": [
    {
     "data": {
      "text/plain": [
       "1.922521244844001e+100"
      ]
     },
     "execution_count": 159,
     "metadata": {},
     "output_type": "execute_result"
    }
   ],
   "source": [
    "sum1-target"
   ]
  },
  {
   "cell_type": "code",
   "execution_count": 134,
   "metadata": {},
   "outputs": [],
   "source": [
    "sum2=0\n",
    "for i in range(0,51):\n",
    "    sum2=sum2+mlist[i]"
   ]
  },
  {
   "cell_type": "code",
   "execution_count": 135,
   "metadata": {},
   "outputs": [
    {
     "data": {
      "text/plain": [
       "-3.4257227100680067e+100"
      ]
     },
     "execution_count": 135,
     "metadata": {},
     "output_type": "execute_result"
    }
   ],
   "source": [
    "#seperate the dataset into 3 parts,store all the combination in memeory 2^33 and for each explore\n",
    "#the first part always in say \n",
    "\n"
   ]
  },
  {
   "cell_type": "code",
   "execution_count": 143,
   "metadata": {
    "collapsed": true
   },
   "outputs": [],
   "source": [
    "import random"
   ]
  },
  {
   "cell_type": "code",
   "execution_count": 154,
   "metadata": {
    "collapsed": true
   },
   "outputs": [],
   "source": [
    "ar=[0]*100\n",
    "def generateRandomArray2(ar):\n",
    "    for i in range(0,100):\n",
    "        if(i<30):\n",
    "            if(random.uniform(0, 1)<=0.8):\n",
    "                ar[i]=0;\n",
    "            else:\n",
    "                ar[i]=1;\n",
    "        \n",
    "        elif(i>=30 and i<=60):\n",
    "            if(random.uniform(0, 1)<=0.6):\n",
    "                ar[i]=0;\n",
    "            else:\n",
    "                ar[i]=1;\n",
    "        elif(i>60):\n",
    "            if(random.uniform(0, 1)<=0.5):\n",
    "                ar[i]=0;\n",
    "            else:\n",
    "                ar[i]=1;\n"
   ]
  },
  {
   "cell_type": "code",
   "execution_count": 155,
   "metadata": {},
   "outputs": [],
   "source": [
    "generateRandomArray2(ar)"
   ]
  },
  {
   "cell_type": "code",
   "execution_count": 156,
   "metadata": {},
   "outputs": [
    {
     "data": {
      "text/plain": [
       "[0,\n",
       " 1,\n",
       " 0,\n",
       " 0,\n",
       " 1,\n",
       " 0,\n",
       " 0,\n",
       " 0,\n",
       " 0,\n",
       " 1,\n",
       " 0,\n",
       " 0,\n",
       " 0,\n",
       " 0,\n",
       " 0,\n",
       " 1,\n",
       " 0,\n",
       " 0,\n",
       " 0,\n",
       " 0,\n",
       " 0,\n",
       " 0,\n",
       " 1,\n",
       " 0,\n",
       " 0,\n",
       " 0,\n",
       " 0,\n",
       " 0,\n",
       " 0,\n",
       " 0,\n",
       " 0,\n",
       " 0,\n",
       " 0,\n",
       " 0,\n",
       " 0,\n",
       " 0,\n",
       " 1,\n",
       " 1,\n",
       " 0,\n",
       " 0,\n",
       " 0,\n",
       " 0,\n",
       " 0,\n",
       " 1,\n",
       " 0,\n",
       " 1,\n",
       " 0,\n",
       " 0,\n",
       " 1,\n",
       " 1,\n",
       " 0,\n",
       " 0,\n",
       " 0,\n",
       " 0,\n",
       " 1,\n",
       " 1,\n",
       " 0,\n",
       " 1,\n",
       " 0,\n",
       " 1,\n",
       " 0,\n",
       " 1,\n",
       " 1,\n",
       " 1,\n",
       " 1,\n",
       " 1,\n",
       " 0,\n",
       " 1,\n",
       " 0,\n",
       " 1,\n",
       " 1,\n",
       " 1,\n",
       " 0,\n",
       " 1,\n",
       " 0,\n",
       " 0,\n",
       " 0,\n",
       " 0,\n",
       " 1,\n",
       " 0,\n",
       " 0,\n",
       " 1,\n",
       " 1,\n",
       " 1,\n",
       " 0,\n",
       " 0,\n",
       " 1,\n",
       " 1,\n",
       " 0,\n",
       " 1,\n",
       " 1,\n",
       " 1,\n",
       " 0,\n",
       " 0,\n",
       " 0,\n",
       " 0,\n",
       " 0,\n",
       " 0,\n",
       " 0,\n",
       " 1]"
      ]
     },
     "execution_count": 156,
     "metadata": {},
     "output_type": "execute_result"
    }
   ],
   "source": [
    "ar"
   ]
  },
  {
   "cell_type": "code",
   "execution_count": 160,
   "metadata": {},
   "outputs": [
    {
     "data": {
      "text/plain": [
       "2.2129451866765846e+102"
      ]
     },
     "execution_count": 160,
     "metadata": {},
     "output_type": "execute_result"
    }
   ],
   "source": [
    "#all of the ar index has to be in \n",
    "sum1"
   ]
  },
  {
   "cell_type": "code",
   "execution_count": 161,
   "metadata": {},
   "outputs": [
    {
     "data": {
      "text/plain": [
       "4.484437332341557e+100"
      ]
     },
     "execution_count": 161,
     "metadata": {},
     "output_type": "execute_result"
    }
   ],
   "source": [
    "target-sum1"
   ]
  },
  {
   "cell_type": "code",
   "execution_count": 162,
   "metadata": {
    "collapsed": true
   },
   "outputs": [],
   "source": [
    "left=[]\n",
    "for i in range(0,len(ar)):\n",
    "    if(ar[i]!=1):\n",
    "        left.append(i)"
   ]
  },
  {
   "cell_type": "code",
   "execution_count": 163,
   "metadata": {},
   "outputs": [
    {
     "data": {
      "text/plain": [
       "65"
      ]
     },
     "execution_count": 163,
     "metadata": {},
     "output_type": "execute_result"
    }
   ],
   "source": [
    "len(left)"
   ]
  },
  {
   "cell_type": "code",
   "execution_count": 169,
   "metadata": {
    "collapsed": true
   },
   "outputs": [],
   "source": [
    "ar1=[0]*65\n",
    "for i in range(0,65):\n",
    "        if(random.uniform(0, 1)<=0.5):\n",
    "            ar1[i]=0;\n",
    "        else:\n",
    "            ar1[i]=1;\n"
   ]
  },
  {
   "cell_type": "code",
   "execution_count": 179,
   "metadata": {},
   "outputs": [],
   "source": [
    "#inmemory=[]\n",
    "count=0\n",
    "fixed=[]\n",
    "for i in range(0,len(left)):\n",
    "    if(ar1[i]==1):\n",
    "        fixed.append(i)\n",
    "        #inmemory.append(inmemory[i])\n"
   ]
  },
  {
   "cell_type": "code",
   "execution_count": 212,
   "metadata": {},
   "outputs": [
    {
     "data": {
      "text/plain": [
       "[2,\n",
       " 4,\n",
       " 7,\n",
       " 13,\n",
       " 14,\n",
       " 16,\n",
       " 17,\n",
       " 19,\n",
       " 20,\n",
       " 23,\n",
       " 24,\n",
       " 25,\n",
       " 30,\n",
       " 31,\n",
       " 32,\n",
       " 34,\n",
       " 37,\n",
       " 38,\n",
       " 39,\n",
       " 40,\n",
       " 41,\n",
       " 47,\n",
       " 49,\n",
       " 50,\n",
       " 54,\n",
       " 56,\n",
       " 57,\n",
       " 59,\n",
       " 60,\n",
       " 64]"
      ]
     },
     "execution_count": 212,
     "metadata": {},
     "output_type": "execute_result"
    }
   ],
   "source": [
    "fixed"
   ]
  },
  {
   "cell_type": "code",
   "execution_count": 172,
   "metadata": {},
   "outputs": [],
   "source": [
    "sum2=0\n",
    "for i in range(0,65):\n",
    "    if(ar1[i]==1):\n",
    "        sum2=sum2+mlist[left[i]]\n",
    "    "
   ]
  },
  {
   "cell_type": "code",
   "execution_count": 176,
   "metadata": {
    "collapsed": true
   },
   "outputs": [],
   "source": [
    "left2=[]\n",
    "for i in range(0,65):\n",
    "    if(ar1[i]==0):\n",
    "        left2.append(i)"
   ]
  },
  {
   "cell_type": "code",
   "execution_count": 200,
   "metadata": {},
   "outputs": [
    {
     "data": {
      "text/plain": [
       "[1, 0, 0, 1, 0, 0, 0, 0, 1]"
      ]
     },
     "execution_count": 200,
     "metadata": {},
     "output_type": "execute_result"
    }
   ],
   "source": [
    "ar[1:10]"
   ]
  },
  {
   "cell_type": "code",
   "execution_count": 201,
   "metadata": {},
   "outputs": [
    {
     "data": {
      "text/plain": [
       "[4, 7, 13, 14, 16, 17, 19, 20, 23]"
      ]
     },
     "execution_count": 201,
     "metadata": {},
     "output_type": "execute_result"
    }
   ],
   "source": [
    "fixed[1:10]"
   ]
  },
  {
   "cell_type": "code",
   "execution_count": 177,
   "metadata": {},
   "outputs": [
    {
     "data": {
      "text/plain": [
       "35"
      ]
     },
     "execution_count": 177,
     "metadata": {},
     "output_type": "execute_result"
    }
   ],
   "source": [
    "len(left2)"
   ]
  },
  {
   "cell_type": "code",
   "execution_count": 175,
   "metadata": {},
   "outputs": [
    {
     "data": {
      "text/plain": [
       "1.643944157699276e+102"
      ]
     },
     "execution_count": 175,
     "metadata": {},
     "output_type": "execute_result"
    }
   ],
   "source": [
    "sum2+sum1-target\n"
   ]
  },
  {
   "cell_type": "code",
   "execution_count": 207,
   "metadata": {},
   "outputs": [],
   "source": [
    "#make the first in memery to be a sorted list exhausting everything.\n",
    "sumInMemory=[]\n",
    "for i in range(0,2**5):\n",
    "    t=intToB(i)\n",
    "    data=0;\n",
    "    for i in range(len(t)-1,-1,-1):\n",
    "        data=data+((int)(t[i]))*mlist[fixed[i]];\n",
    "    sumInMemory.append(data);\n",
    "with open('/home/yan/cryptography-code/fixed.data', 'wb') as handle:\n",
    "    pickle.dump(sumInMemory, handle, protocol=pickle.HIGHEST_PROTOCOL)\n",
    "\n",
    "        "
   ]
  },
  {
   "cell_type": "code",
   "execution_count": 211,
   "metadata": {},
   "outputs": [
    {
     "data": {
      "text/plain": [
       "[0.0,\n",
       " 1.709975946676697e+100,\n",
       " 1.709975946676697e+100,\n",
       " 3.9339560372460126e+100,\n",
       " 1.709975946676697e+100,\n",
       " 4.3783775953986415e+100,\n",
       " 3.9339560372460126e+100,\n",
       " 6.6023576859679566e+100,\n",
       " 1.709975946676697e+100,\n",
       " 5.2133740070634206e+100,\n",
       " 4.3783775953986415e+100,\n",
       " 7.881775655785366e+100,\n",
       " 3.9339560372460126e+100,\n",
       " 7.437354097632736e+100,\n",
       " 6.6023576859679566e+100,\n",
       " 1.0105755746354681e+101,\n",
       " 1.709975946676697e+100,\n",
       " 5.318802026815392e+100,\n",
       " 5.2133740070634206e+100,\n",
       " 8.822200087202115e+100,\n",
       " 4.3783775953986415e+100,\n",
       " 7.987203675537336e+100,\n",
       " 7.881775655785366e+100,\n",
       " 1.149060173592406e+101,\n",
       " 3.9339560372460126e+100,\n",
       " 7.542782117384707e+100,\n",
       " 7.437354097632736e+100,\n",
       " 1.104618017777143e+101,\n",
       " 6.6023576859679566e+100,\n",
       " 1.0211183766106651e+101,\n",
       " 1.0105755746354681e+101,\n",
       " 1.3714581826493374e+101]"
      ]
     },
     "execution_count": 211,
     "metadata": {},
     "output_type": "execute_result"
    }
   ],
   "source": [
    "sumInMemory"
   ]
  },
  {
   "cell_type": "code",
   "execution_count": 188,
   "metadata": {},
   "outputs": [],
   "source": [
    "test=(int)(\"{0:b}\".format(1089999999829129112737210))"
   ]
  },
  {
   "cell_type": "code",
   "execution_count": 196,
   "metadata": {},
   "outputs": [],
   "source": [
    "def intToB(x):\n",
    "    return (\"{0:b}\".format(x))"
   ]
  },
  {
   "cell_type": "code",
   "execution_count": 190,
   "metadata": {
    "collapsed": true
   },
   "outputs": [],
   "source": [
    "test=\"1089999999829129112737210\""
   ]
  },
  {
   "cell_type": "code",
   "execution_count": 195,
   "metadata": {},
   "outputs": [
    {
     "name": "stdout",
     "output_type": "stream",
     "text": [
      "0\n",
      "2\n",
      "4\n",
      "14\n",
      "6\n",
      "14\n",
      "4\n",
      "2\n",
      "2\n",
      "18\n",
      "4\n",
      "2\n",
      "18\n",
      "4\n",
      "16\n",
      "18\n",
      "18\n",
      "18\n",
      "18\n",
      "18\n",
      "18\n",
      "18\n",
      "16\n",
      "0\n",
      "2\n"
     ]
    }
   ],
   "source": [
    "for i in range(len(test)-1,-1,-1):\n",
    "    print(int(test[i])*2)"
   ]
  },
  {
   "cell_type": "code",
   "execution_count": null,
   "metadata": {
    "collapsed": true
   },
   "outputs": [],
   "source": [
    "#save all the sum in to disk in to python\n",
    "\n",
    "with open('/home/yan/cryptography-code/fixed.data', 'wb') as handle:\n",
    "    pickle.dump(sumInMemory, handle, protocol=pickle.HIGHEST_PROTOCOL)"
   ]
  }
 ],
 "metadata": {
  "kernelspec": {
   "display_name": "Python 3",
   "language": "python",
   "name": "python3"
  },
  "language_info": {
   "codemirror_mode": {
    "name": "ipython",
    "version": 3
   },
   "file_extension": ".py",
   "mimetype": "text/x-python",
   "name": "python",
   "nbconvert_exporter": "python",
   "pygments_lexer": "ipython3",
   "version": "3.6.1"
  }
 },
 "nbformat": 4,
 "nbformat_minor": 2
}
