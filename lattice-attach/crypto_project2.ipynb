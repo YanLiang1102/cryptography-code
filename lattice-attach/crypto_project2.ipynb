{
 "cells": [
  {
   "cell_type": "markdown",
   "metadata": {},
   "source": [
    "# play with random sampling"
   ]
  },
  {
   "cell_type": "code",
   "execution_count": 5,
   "metadata": {
    "collapsed": true
   },
   "outputs": [],
   "source": [
    "import sys\n",
    "import os\n",
    "import pickle\n",
    "from sage.all import *\n",
    "import random\n",
    "import math\n",
    "import pickle\n",
    "\n",
    "def getMlist(mlist):\n",
    "    #with open('/Users/yanliang/cryptography/madata.data', 'a') as the_file:\n",
    "    p=2;\n",
    "    count=0;\n",
    "    while(count<100):\n",
    "        #data=math.floor((p)**(1/3)*(10**100));\n",
    "        data=math.floor(((p).n(prec=1000).nth_root(3))*(10**100))\n",
    "        #the_file.write(str(data)+'\\n');\n",
    "        mlist.append(data);\n",
    "        count=count+1;\n",
    "        p=next_prime(p)\n",
    "    return mlist;\n",
    "    \n",
    "def subset_sum(s,t,s_size,t_size,sum0,ite,target_sum,minresult):\n",
    "    tsize=[None]*(t_size);\n",
    "    #sum0 is the currentsum:\n",
    "    if(sum0-target_sum>0 and sum0-target_sum<minresult[0]):\n",
    "        minresult[0]=sum0-target_sum\n",
    "        for i in range(0,t_size):\n",
    "            print(s[i]);\n",
    "        print(\"end in the middle\")\n",
    "    #total_node=total_node+1;\n",
    "    if(target_sum==sum0): #then we find the sum\n",
    "        printSubset(t,t_size,s);\n",
    "        #constraint check\n",
    "        if(ite+1<s_size  and sum0-s[ite]+s[ite+1]<=target_sum):\n",
    "            subset_sum(s,t,s_size,t_size-1,sum0-s[ite],ite+1,target_sum,minresult);\n",
    "        return;\n",
    "    else:\n",
    "        if(ite<s_size and sum0+s[ite]<=target_sum):\n",
    "            for i in range(ite,s_size):\n",
    "                t[t_size]=s[i];\n",
    "                if(sum0+s[i]<=target_sum):\n",
    "                    subset_sum(s,t,s_size,t_size+1,sum0+s[i],i+1,target_sum,minresult);\n",
    "\n"
   ]
  },
  {
   "cell_type": "code",
   "execution_count": null,
   "metadata": {
    "collapsed": true
   },
   "outputs": [],
   "source": [
    "import sys\n",
    "import os\n",
    "import pickle\n",
    "from sage.all import *\n",
    "import random\n",
    "import math\n",
    "\n",
    "def getMlist(mlist):\n",
    "    #with open('/Users/yanliang/cryptography/madata.data', 'a') as the_file:\n",
    "    p=2;\n",
    "    count=0;\n",
    "    while(count<100):\n",
    "        #data=math.floor((p)**(1/3)*(10**100));\n",
    "        data=math.floor(((p).n(prec=1000).nth_root(3))*(10**100))\n",
    "        #the_file.write(str(data)+'\\n');\n",
    "        mlist.append(data);\n",
    "        count=count+1;\n",
    "        p=next_prime(p)\n",
    "    return mlist;\n",
    "    \n",
    "def generateRandomArray():\n",
    "    ar=[];\n",
    "    for i in range(0,100):\n",
    "        if(random.uniform(0, 1)<=0.5):\n",
    "            ar.append(0);\n",
    "        else:\n",
    "            ar.append(1);\n",
    "def meetInTheMiddle():\n",
    "    ar=generateRandomArray();\n",
    "\n",
    "dataarray=[];\n",
    "def printSubset(A,size,mlist):\n",
    "    globalsum=0;\n",
    "    for i in range(0,size):\n",
    "        print(A[i]);\n",
    "        #dataarray.append(A[i]);\n",
    "        print(getindex(mlist,A[i]))\n",
    "        #globalsum=globalsum+A[i]\n",
    "    print(\"end\");\n",
    "    \n",
    "\n",
    "def subset_sum(s,t,s_size,t_size,sum0,ite,target_sum,minresult):\n",
    "    tsize=[None]*(t_size);\n",
    "    #total_node=total_node+1;\n",
    "    if(target_sum==sum0): #then we find the sum\n",
    "        printSubset(t,t_size,s);\n",
    "        #constraint check\n",
    "        if(ite+1<s_size):\n",
    "            subset_sum(s,t,s_size,t_size-1,sum0-s[ite],ite+1,target_sum,minresult);\n",
    "        return;\n",
    "    else:\n",
    "        if(ite<s_size):\n",
    "            for i in range(ite,s_size):\n",
    "                t[t_size]=s[i];\n",
    "                #if(sum0+s[i]<=target_sum):\n",
    "                subset_sum(s,t,s_size,t_size+1,sum0+s[i],i+1,target_sum,minresult);\n",
    "\n",
    "tuplet_vector=[None]*100\n",
    "def generateSubsets(s,size,target_sum,minresult):\n",
    "    total=0;\n",
    "    for i in range(0,size):\n",
    "        total=total+s[i]\n",
    "    if(s[0]<= target_sum and total>=target_sum): #then we can go deeper\n",
    "        subset_sum(s,tuplet_vector,size,0,0,0,target_sum,minresult);   \n",
    "\n",
    "def getnthroot(data):\n",
    "    return math.floor((data.n(prec=1000).nth_root(3))*(10**100));\n",
    "def getindex(l,data):\n",
    "    for i in range(0,len(l)):\n",
    "        if data==l[i]:\n",
    "            return i;\n",
    "    return -1;\n",
    "    \n",
    "def main():\n",
    "    mlist=[]\n",
    "    weights=getMlist(mlist)\n",
    "    #target = 2*112889478*(10**94);\n",
    "    #mm=constructMatrix(target,weights)\n",
    "    target=getnthroot(2)+getnthroot(5)+getnthroot(19)+getnthroot(101);\n",
    "    size =len(weights);\n",
    "    print(\"length should be 100: \"+str(size));\n",
    "    minresult.append(100*10*(10**100))\n",
    "    generateSubsets(weights, size, target,minresult); \n",
    "if __name__ == \"__main__\":\n",
    "    main()"
   ]
  },
  {
   "cell_type": "code",
   "execution_count": 52,
   "metadata": {
    "collapsed": true
   },
   "outputs": [],
   "source": [
    "def printSubset(A,size):\n",
    "    for i in range(0,size):\n",
    "        print(A[i]);\n",
    "    print(\"n\");"
   ]
  },
  {
   "cell_type": "code",
   "execution_count": 53,
   "metadata": {
    "collapsed": true
   },
   "outputs": [],
   "source": [
    "def subset_sum(s,t,s_size,t_size,sum0,ite,target_sum):\n",
    "    tsize=[None]*(t_size);\n",
    "    #total_node=total_node+1;\n",
    "    if(target_sum==sum0): #then we find the sum\n",
    "        printSubset(t,t_size);\n",
    "        #constraint check\n",
    "        if(ite+1<s_size  and sum0-s[ite]+s[ite+1]<=target_sum):\n",
    "            subset_sum(s,t,s_size,t_size-1,sum0-s[ite],ite+1,target_sum);\n",
    "        return;\n",
    "    else:\n",
    "        if(ite<s_size and sum0+s[ite]<=target_sum):\n",
    "            for i in range(ite,s_size):\n",
    "                t[t_size]=s[i];\n",
    "                if(sum0+s[i]<=target_sum):\n",
    "                    subset_sum(s,t,s_size,t_size+1,sum0+s[i],i+1,target_sum);"
   ]
  },
  {
   "cell_type": "code",
   "execution_count": 54,
   "metadata": {
    "collapsed": true
   },
   "outputs": [],
   "source": [
    "tuplet_vector=[None]*100\n",
    "def generateSubsets(s,size,target_sum):\n",
    "    total=0;\n",
    "    for i in range(0,size):\n",
    "        total=total+s[i]\n",
    "    if(s[0]<= target_sum and total>=target_sum): #then we can go deeper\n",
    "        subset_sum(s,tuplet_vector,size,0,0,0,target_sum);"
   ]
  },
  {
   "cell_type": "markdown",
   "metadata": {},
   "source": [
    "# play with the BKZ"
   ]
  },
  {
   "cell_type": "code",
   "execution_count": null,
   "metadata": {
    "collapsed": true
   },
   "outputs": [],
   "source": [
    "def constructMatrix(target,mlist):\n",
    "    #construct a matrix with dimension 101*101\n",
    "    dim=101\n",
    "    dim1=100;\n",
    "    mm=Matrix.identity(dim);\n",
    "    #then update the matrix;\n",
    "    mm=2*mm;\n",
    "    for i in range(0,dim1):\n",
    "        mm[i,dim1]=mlist[i]\n",
    "        mm[dim1,i]=1\n",
    "    mm[dim1,dim1]=target;\n",
    "    return mm;"
   ]
  },
  {
   "cell_type": "code",
   "execution_count": null,
   "metadata": {
    "collapsed": true
   },
   "outputs": [],
   "source": [
    "rst=[]\n",
    "for diff in range(0,10**8):\n",
    "    mm=constructMatrix(target+diff+10**85,mlist);\n",
    "    tt=(float)(mm.LLL()[0].norm());\n",
    "    if(tt==10):\n",
    "        print(diff);\n",
    "        rst.append(diff);\n",
    "with open('/Users/yanliang/eventData/yan-virtualenv/document_cluster/bkz.data', 'wb') as handle:\n",
    "    pickle.dump(rst, handle, protocol=pickle.HIGHEST_PROTOCOL)\n",
    "        "
   ]
  },
  {
   "cell_type": "code",
   "execution_count": 284,
   "metadata": {},
   "outputs": [
    {
     "data": {
      "text/plain": [
       "True"
      ]
     },
     "execution_count": 284,
     "metadata": {},
     "output_type": "execute_result"
    }
   ],
   "source": [
    "10.00==10"
   ]
  },
  {
   "cell_type": "code",
   "execution_count": 58,
   "metadata": {
    "collapsed": true
   },
   "outputs": [],
   "source": [
    "def generateRandomArray(ar):\n",
    "    #ar=[];\n",
    "    for i in range(0,100):\n",
    "        if(i<30):\n",
    "            if(random.uniform(0, 1)<=0.7):\n",
    "                ar[i]=1;\n",
    "            else:\n",
    "                ar[i]=0;\n",
    "        elif(i>=30 and i<=80):\n",
    "            if(random.uniform(0, 1)<=0.6):\n",
    "                ar[i]=1;\n",
    "            else:\n",
    "                ar[i]=0;\n",
    "        elif(i>80):\n",
    "            if(random.uniform(0, 1)<=0.4):\n",
    "                ar[i]=1;\n",
    "            else:\n",
    "                ar[i]=0;\n",
    "            "
   ]
  },
  {
   "cell_type": "code",
   "execution_count": null,
   "metadata": {
    "collapsed": true
   },
   "outputs": [],
   "source": [
    "\n",
    "def oneround(weights,target,mindiff,bestar):\n",
    "    ar=[0]*100;\n",
    "    generateRandomArray(ar);\n",
    "    sum1=0;\n",
    "    for i in range(0,100):\n",
    "        sum1=sum1+weights[i]*ar[i]\n",
    "    if(sum1>target and sum1-target<mindiff):\n",
    "        mindiff=sum1-target;\n",
    "        print(mindiff);\n",
    "        bestar.append(ar);\n",
    "        return mindiff;\n",
    "    else:\n",
    "        return -1;\n",
    "        \n",
    "    "
   ]
  },
  {
   "cell_type": "code",
   "execution_count": null,
   "metadata": {
    "collapsed": true
   },
   "outputs": [],
   "source": [
    "mindiff=10**103\n",
    "bestar=[]\n",
    "for i in range(0,10**7):\n",
    "    rst=oneround(weights,target,mindiff,bestar)\n",
    "    if(rst!=-1):\n",
    "        print(\"the current index is: \"+str(i))\n",
    "        mindiff=rst\n",
    "        "
   ]
  },
  {
   "cell_type": "code",
   "execution_count": null,
   "metadata": {
    "collapsed": true
   },
   "outputs": [],
   "source": [
    "def getTheSmallestIndex(weights,target):\n",
    "    sum1=0;\n",
    "    #count=0;\n",
    "    for i in range(0,len(weights)):\n",
    "        #count=count+1\n",
    "        sum1=sum1+weights[i]\n",
    "        if(sum1>target):\n",
    "            print(\"I am the diff and let me see what is the diff:\"+str(sum1-target)+\"  \"+str(i))\n",
    "            break;\n",
    "\n",
    "        \n",
    "        "
   ]
  },
  {
   "cell_type": "code",
   "execution_count": null,
   "metadata": {
    "collapsed": true
   },
   "outputs": [],
   "source": [
    "matrix([[i^j for j in range(1,4)] for i in range(6)])"
   ]
  },
  {
   "cell_type": "code",
   "execution_count": 80,
   "metadata": {
    "collapsed": true
   },
   "outputs": [],
   "source": [
    "count=0\n",
    "l=[]\n",
    "for i in range(0,100):\n",
    "    if(best[i]!=0):\n",
    "        l.append(i)\n",
    "        count=count+1"
   ]
  },
  {
   "cell_type": "code",
   "execution_count": 154,
   "metadata": {
    "collapsed": true
   },
   "outputs": [],
   "source": [
    "ar=[0]*100\n",
    "def generateRandomArray2(ar):\n",
    "    for i in range(0,100):\n",
    "        if(i<30):\n",
    "            if(random.uniform(0, 1)<=0.8):\n",
    "                ar[i]=0;\n",
    "            else:\n",
    "                ar[i]=1;\n",
    "        \n",
    "        elif(i>=30 and i<=60):\n",
    "            if(random.uniform(0, 1)<=0.6):\n",
    "                ar[i]=0;\n",
    "            else:\n",
    "                ar[i]=1;\n",
    "        elif(i>60):\n",
    "            if(random.uniform(0, 1)<=0.5):\n",
    "                ar[i]=0;\n",
    "            else:\n",
    "                ar[i]=1;\n"
   ]
  },
  {
   "cell_type": "code",
   "execution_count": 207,
   "metadata": {
    "collapsed": true
   },
   "outputs": [],
   "source": [
    "#make the first in memery to be a sorted list exhausting everything.\n",
    "sumInMemory=[]\n",
    "for i in range(0,2**5):\n",
    "    t=intToB(i)\n",
    "    data=0;\n",
    "    for i in range(len(t)-1,-1,-1):\n",
    "        data=data+((int)(t[i]))*mlist[fixed[i]];\n",
    "    sumInMemory.append(data);\n",
    "with open('/home/yan/cryptography-code/fixed.data', 'wb') as handle:\n",
    "    pickle.dump(sumInMemory, handle, protocol=pickle.HIGHEST_PROTOCOL)\n",
    "\n",
    "        "
   ]
  },
  {
   "cell_type": "code",
   "execution_count": 188,
   "metadata": {
    "collapsed": true
   },
   "outputs": [],
   "source": [
    "test=(int)(\"{0:b}\".format(1089999999829129112737210))"
   ]
  },
  {
   "cell_type": "code",
   "execution_count": 196,
   "metadata": {
    "collapsed": true
   },
   "outputs": [],
   "source": [
    "def intToB(x):\n",
    "    return (\"{0:b}\".format(x))"
   ]
  },
  {
   "cell_type": "code",
   "execution_count": null,
   "metadata": {
    "collapsed": true
   },
   "outputs": [],
   "source": [
    "#save all the sum in to disk in to python\n",
    "\n",
    "with open('/home/yan/cryptography-code/fixed.data', 'wb') as handle:\n",
    "    pickle.dump(sumInMemory, handle, protocol=pickle.HIGHEST_PROTOCOL)"
   ]
  },
  {
   "cell_type": "code",
   "execution_count": 300,
   "metadata": {
    "collapsed": true
   },
   "outputs": [],
   "source": [
    "inmemrst=[]\n",
    "with open(\"/Users/yanliang/git-cryptogrphy/data/random0.data\", \"rb\") as input_file:\n",
    "        inmemrst=pickle.load(input_file)"
   ]
  },
  {
   "cell_type": "markdown",
   "metadata": {},
   "source": [
    "inmemrst"
   ]
  },
  {
   "cell_type": "code",
   "execution_count": 273,
   "metadata": {
    "collapsed": true
   },
   "outputs": [],
   "source": [
    "inmem=[]\n",
    "with open(\"fixed0.data\", \"rb\") as input_file:\n",
    "        inmem=pickle.load(input_file)"
   ]
  },
  {
   "cell_type": "code",
   "execution_count": 274,
   "metadata": {},
   "outputs": [
    {
     "data": {
      "text/plain": [
       "33554432"
      ]
     },
     "execution_count": 274,
     "metadata": {},
     "output_type": "execute_result"
    }
   ],
   "source": [
    "len(inmem)"
   ]
  },
  {
   "cell_type": "code",
   "execution_count": 278,
   "metadata": {},
   "outputs": [
    {
     "data": {
      "text/plain": [
       "-5.5048129509554455e+99"
      ]
     },
     "execution_count": 278,
     "metadata": {},
     "output_type": "execute_result"
    }
   ],
   "source": [
    "rr+inmem[3]"
   ]
  },
  {
   "cell_type": "code",
   "execution_count": 287,
   "metadata": {},
   "outputs": [
    {
     "data": {
      "text/plain": [
       "1.995903998246138e+101"
      ]
     },
     "execution_count": 287,
     "metadata": {},
     "output_type": "execute_result"
    }
   ],
   "source": [
    "sum1-target+mlist[10]+mlist[6]+mlist[43]+mlist[62]+mlist[51]"
   ]
  },
  {
   "cell_type": "code",
   "execution_count": 309,
   "metadata": {
    "collapsed": true
   },
   "outputs": [],
   "source": [
    "# split into 25 and 25\n",
    "#25 comefrom first 50 choose randomly:\n",
    "goldlist=[]\n",
    "for i in range(0,50):\n",
    "    if(random.uniform(0, 1)<=0.5):\n",
    "        goldlist.append(i);\n"
   ]
  },
  {
   "cell_type": "code",
   "execution_count": 310,
   "metadata": {},
   "outputs": [
    {
     "data": {
      "text/plain": [
       "28"
      ]
     },
     "execution_count": 310,
     "metadata": {},
     "output_type": "execute_result"
    }
   ],
   "source": [
    "len(goldlist)"
   ]
  },
  {
   "cell_type": "code",
   "execution_count": 325,
   "metadata": {
    "collapsed": true
   },
   "outputs": [],
   "source": [
    "#choose 25 that is always not going to be in the list:\n",
    "evillist=[]\n",
    "for i in range(50,100):\n",
    "    if(random.uniform(0,1)<=0.5):\n",
    "        evillist.append(i)"
   ]
  },
  {
   "cell_type": "markdown",
   "metadata": {
    "collapsed": true
   },
   "source": [
    "gold is slaways in \n",
    "evil not in at all\n",
    "fixed 1 and fixed 2 are in memory and ready to do the binary search"
   ]
  },
  {
   "cell_type": "markdown",
   "metadata": {},
   "source": [
    "# Meet in the middle best solution"
   ]
  },
  {
   "cell_type": "code",
   "execution_count": 773,
   "metadata": {
    "collapsed": true
   },
   "outputs": [],
   "source": [
    "org2=[]\n",
    "with open(\"fixed2-27-0.data\", \"rb\") as input_file:\n",
    "        org2=pickle.load(input_file)"
   ]
  },
  {
   "cell_type": "code",
   "execution_count": 772,
   "metadata": {
    "collapsed": true
   },
   "outputs": [],
   "source": [
    "inmem1=[]\n",
    "with open(\"fixed1-27-0.data\", \"rb\") as input_file:\n",
    "        inmem1=pickle.load(input_file)"
   ]
  },
  {
   "cell_type": "code",
   "execution_count": 526,
   "metadata": {},
   "outputs": [
    {
     "data": {
      "text/plain": [
       "4.3322378755807205e+100"
      ]
     },
     "execution_count": 526,
     "metadata": {},
     "output_type": "execute_result"
    }
   ],
   "source": [
    "inmem1[10]"
   ]
  },
  {
   "cell_type": "code",
   "execution_count": 768,
   "metadata": {
    "collapsed": true
   },
   "outputs": [],
   "source": [
    "inmem2=[]\n",
    "with open(\"fixed2-27-0.data\", \"rb\") as input_file:\n",
    "        inmem2=pickle.load(input_file)"
   ]
  },
  {
   "cell_type": "code",
   "execution_count": 769,
   "metadata": {},
   "outputs": [
    {
     "data": {
      "text/plain": [
       "134217728"
      ]
     },
     "execution_count": 769,
     "metadata": {},
     "output_type": "execute_result"
    }
   ],
   "source": [
    "len(inmem2)"
   ]
  },
  {
   "cell_type": "code",
   "execution_count": 720,
   "metadata": {
    "collapsed": true
   },
   "outputs": [],
   "source": [
    "goldlist=[\n",
    " 3,\n",
    " 4,\n",
    " 6,\n",
    " 11,\n",
    " 13,\n",
    " 14,\n",
    " 17,\n",
    " 21,\n",
    " 22,\n",
    " 23,\n",
    " 27,\n",
    " 30,\n",
    " 31,\n",
    " 33,\n",
    " 34,\n",
    " 35,\n",
    " 38,\n",
    " 39,\n",
    " 41,\n",
    " 43]\n",
    "evillist=[51,\n",
    " 52,\n",
    " 57,\n",
    " 58,\n",
    " 59,\n",
    " 67,\n",
    " 71,\n",
    " 72,\n",
    " 73,\n",
    " 74,\n",
    " 78,\n",
    " 85,\n",
    " 86,\n",
    " 89,\n",
    " 90,\n",
    " 94,\n",
    " 95,\n",
    " 96,\n",
    " 97,\n",
    " 98]\n",
    "fixed1=[1,\n",
    " 2,\n",
    " 7,\n",
    " 9,\n",
    " 18,\n",
    " 25,\n",
    " 26,\n",
    " 28,\n",
    " 29,\n",
    " 36,\n",
    " 40,\n",
    " 42,\n",
    " 44,\n",
    " 46,\n",
    " 47,\n",
    " 50,\n",
    " 56,\n",
    " 60,\n",
    " 63,\n",
    " 64,\n",
    " 65,\n",
    " 70,\n",
    " 80,\n",
    " 83,\n",
    " 87,\n",
    " 92,\n",
    " 93,\n",
    " 99,\n",
    " 91,\n",
    " 88]\n",
    "fixed2=[0,\n",
    " 5,\n",
    " 8,\n",
    " 10,\n",
    " 12,\n",
    " 15,\n",
    " 16,\n",
    " 19,\n",
    " 20,\n",
    " 24,\n",
    " 32,\n",
    " 37,\n",
    " 45,\n",
    " 48,\n",
    " 49,\n",
    " 53,\n",
    " 54,\n",
    " 55,\n",
    " 61,\n",
    " 62,\n",
    " 66,\n",
    " 68,\n",
    " 69,\n",
    " 75,\n",
    " 76,\n",
    " 77,\n",
    " 79,\n",
    " 81,\n",
    " 82,\n",
    " 84]"
   ]
  },
  {
   "cell_type": "code",
   "execution_count": 787,
   "metadata": {
    "collapsed": true
   },
   "outputs": [],
   "source": [
    "goldsum=0;\n",
    "for i in goldlist:\n",
    "    goldsum=goldsum+mlist[i]\n"
   ]
  },
  {
   "cell_type": "code",
   "execution_count": 788,
   "metadata": {
    "collapsed": true
   },
   "outputs": [],
   "source": [
    "target=2*112889478*(10**94)"
   ]
  },
  {
   "cell_type": "code",
   "execution_count": 789,
   "metadata": {},
   "outputs": [
    {
     "data": {
      "text/plain": [
       "-1.0915260041537781e+102"
      ]
     },
     "execution_count": 789,
     "metadata": {},
     "output_type": "execute_result"
    }
   ],
   "source": [
    "-target+goldsum"
   ]
  },
  {
   "cell_type": "code",
   "execution_count": 426,
   "metadata": {
    "collapsed": true
   },
   "outputs": [],
   "source": [
    "def binarySearch(data, val):\n",
    "    lo, hi = 0, len(data) - 1\n",
    "    best_ind = lo\n",
    "    while lo <= hi:\n",
    "        mid = lo + (int)(math.ceil((hi - lo) / 2))\n",
    "        if data[mid] < val:\n",
    "            lo = mid + 1\n",
    "        elif data[mid] > val:\n",
    "            hi = mid - 1\n",
    "        else:\n",
    "            best_ind = mid\n",
    "            break\n",
    "        # check if data[mid] is closer to val than data[best_ind] \n",
    "        if abs(data[mid] - val) < abs(data[best_ind] - val):\n",
    "            best_ind = mid\n",
    "    return best_ind"
   ]
  },
  {
   "cell_type": "code",
   "execution_count": 428,
   "metadata": {
    "collapsed": true
   },
   "outputs": [],
   "source": [
    "indexarray=[]\n",
    "for i in range(0,2**25):\n",
    "    indexarray.append(i)\n",
    "    "
   ]
  },
  {
   "cell_type": "code",
   "execution_count": 573,
   "metadata": {
    "collapsed": true
   },
   "outputs": [],
   "source": [
    "import numpy as np"
   ]
  },
  {
   "cell_type": "code",
   "execution_count": 777,
   "metadata": {
    "collapsed": true
   },
   "outputs": [],
   "source": [
    "index1=np.argsort(np.array(inmem1))"
   ]
  },
  {
   "cell_type": "code",
   "execution_count": 778,
   "metadata": {},
   "outputs": [
    {
     "data": {
      "text/plain": [
       "array([       0,    16384,  2097152,      256, 67108864])"
      ]
     },
     "execution_count": 778,
     "metadata": {},
     "output_type": "execute_result"
    }
   ],
   "source": [
    "index1[0:5]"
   ]
  },
  {
   "cell_type": "code",
   "execution_count": 779,
   "metadata": {
    "collapsed": true
   },
   "outputs": [],
   "source": [
    "#in need to keep thsi one in order to decode\n",
    "index2=np.argsort(np.array(inmem2))"
   ]
  },
  {
   "cell_type": "code",
   "execution_count": 780,
   "metadata": {
    "collapsed": true
   },
   "outputs": [],
   "source": [
    "inmem1.sort()"
   ]
  },
  {
   "cell_type": "code",
   "execution_count": 781,
   "metadata": {
    "collapsed": true
   },
   "outputs": [],
   "source": [
    "inmem2.sort()"
   ]
  },
  {
   "cell_type": "code",
   "execution_count": 782,
   "metadata": {
    "collapsed": true
   },
   "outputs": [],
   "source": [
    "npr=np.array([inmem1,index1])"
   ]
  },
  {
   "cell_type": "code",
   "execution_count": 783,
   "metadata": {
    "collapsed": true
   },
   "outputs": [],
   "source": [
    "#when sort this array just by one column the other row is not changing with it\n",
    "npr2=np.array([inmem2,index2])"
   ]
  },
  {
   "cell_type": "code",
   "execution_count": 614,
   "metadata": {},
   "outputs": [
    {
     "data": {
      "text/plain": [
       "1.045027104821734e+101"
      ]
     },
     "execution_count": 614,
     "metadata": {},
     "output_type": "execute_result"
    }
   ],
   "source": [
    "npr[0][980]"
   ]
  },
  {
   "cell_type": "code",
   "execution_count": 615,
   "metadata": {},
   "outputs": [
    {
     "data": {
      "text/plain": [
       "327744.0"
      ]
     },
     "execution_count": 615,
     "metadata": {},
     "output_type": "execute_result"
    }
   ],
   "source": [
    "npr[1][980]"
   ]
  },
  {
   "cell_type": "code",
   "execution_count": null,
   "metadata": {
    "collapsed": true
   },
   "outputs": [],
   "source": [
    "inmem[327744]"
   ]
  },
  {
   "cell_type": "code",
   "execution_count": 791,
   "metadata": {},
   "outputs": [
    {
     "name": "stdout",
     "output_type": "stream",
     "text": [
      "adjusted-1.0915260841394336e+102 0.0 123724508.0index i: 0\n",
      "4.323563852017052e+93 16384.0 112044763.0index i: 1\n",
      "4.323563852017052e+93 2097152.0 112044763.0index i: 2\n",
      "4.323563852017052e+93 256.0 112044763.0index i: 3\n",
      "4.323563852017052e+93 67108864.0 112044763.0index i: 4\n",
      "4.323563852017052e+93 64.0 112044763.0index i: 5\n",
      "4.323563852017052e+93 131072.0 112044763.0index i: 6\n",
      "4.323563852017052e+93 16777216.0 112044763.0index i: 7\n",
      "4.323563852017052e+93 1024.0 112044763.0index i: 8\n",
      "4.323563852017052e+93 512.0 112044763.0index i: 9\n",
      "4.323563852017052e+93 262144.0 112044763.0index i: 10\n",
      "4.323563852017052e+93 8388608.0 112044763.0index i: 11\n",
      "4.323563852017052e+93 8192.0 112044763.0index i: 12\n",
      "4.323563852017052e+93 524288.0 112044763.0index i: 13\n",
      "4.323563852017052e+93 4096.0 112044763.0index i: 14\n",
      "4.323563852017052e+93 1048576.0 112044763.0index i: 15\n",
      "4.323563852017052e+93 65536.0 112044763.0index i: 16\n",
      "4.323563852017052e+93 128.0 112044763.0index i: 17\n",
      "4.323563852017052e+93 32768.0 112044763.0index i: 18\n",
      "4.323563852017052e+93 4194304.0 112044763.0index i: 19\n",
      "4.323563852017052e+93 32.0 112044763.0index i: 20\n",
      "4.323563852017052e+93 33554432.0 112044763.0index i: 21\n",
      "4.323563852017052e+93 1.0 112044763.0index i: 22\n",
      "4.323563852017052e+93 2.0 112044763.0index i: 23\n",
      "4.323563852017052e+93 16.0 112044763.0index i: 24\n",
      "4.323563852017052e+93 4.0 112044763.0index i: 25\n",
      "4.323563852017052e+93 8.0 112044763.0index i: 26\n",
      "4.323563852017052e+93 2048.0 112044763.0index i: 27\n",
      "6.1658321346299e+92 264.0 81426874.0index i: 126\n",
      "6.1658321346299e+92 1056.0 81426874.0index i: 127\n",
      "6.1658321346299e+92 67584.0 81426874.0index i: 128\n",
      "6.1658321346299e+92 33792.0 81426874.0index i: 129\n",
      "6.1658321346299e+92 1081344.0 81426874.0index i: 130\n",
      "6.1658321346299e+92 34603008.0 81426874.0index i: 131\n",
      "6.1658321346299e+92 17301504.0 81426874.0index i: 132\n",
      "6.1658321346299e+92 4325376.0 81426874.0index i: 133\n",
      "6.1658321346299e+92 8448.0 81426874.0index i: 134\n",
      "6.1658321346299e+92 270336.0 81426874.0index i: 135\n",
      "6.1658321346299e+92 540672.0 81426874.0index i: 136\n",
      "6.1658321346299e+92 132.0 81426874.0index i: 137\n",
      "6.1658321346299e+92 528.0 81426874.0index i: 138\n",
      "6.1658321346299e+92 4224.0 81426874.0index i: 139\n",
      "6.1658321346299e+92 2112.0 81426874.0index i: 140\n",
      "6.1658321346299e+92 16896.0 81426874.0index i: 141\n",
      "6.1658321346299e+92 2162688.0 81426874.0index i: 142\n",
      "6.1658321346299e+92 135168.0 81426874.0index i: 143\n",
      "6.1658321346299e+92 69206016.0 81426874.0index i: 144\n",
      "6.1658321346299e+92 66.0 81426874.0index i: 145\n",
      "6.1658321346299e+92 33.0 81426874.0index i: 146\n",
      "6.1658321346299e+92 8650752.0 81426874.0index i: 147\n",
      "8.246576606904351e+91 2056.0 119103179.0index i: 189\n",
      "8.246576606904351e+91 257.0 119103179.0index i: 190\n",
      "8.246576606904351e+91 16448.0 119103179.0index i: 191\n",
      "8.246576606904351e+91 514.0 119103179.0index i: 192\n",
      "8.246576606904351e+91 263168.0 119103179.0index i: 193\n",
      "8.246576606904351e+91 526336.0 119103179.0index i: 194\n",
      "8.246576606904351e+91 4112.0 119103179.0index i: 195\n",
      "8.246576606904351e+91 1052672.0 119103179.0index i: 196\n",
      "8.246576606904351e+91 131584.0 119103179.0index i: 197\n",
      "8.246576606904351e+91 2105344.0 119103179.0index i: 198\n",
      "8.246576606904351e+91 16842752.0 119103179.0index i: 199\n",
      "8.246576606904351e+91 4210688.0 119103179.0index i: 200\n",
      "8.246576606904351e+91 32896.0 119103179.0index i: 201\n",
      "8.246576606904351e+91 8421376.0 119103179.0index i: 202\n",
      "8.246576606904351e+91 65792.0 119103179.0index i: 203\n",
      "8.246576606904351e+91 33685504.0 119103179.0index i: 204\n",
      "8.246576606904351e+91 1028.0 119103179.0index i: 205\n",
      "8.246576606904351e+91 8224.0 119103179.0index i: 206\n",
      "8.246576606904351e+91 67371008.0 119103179.0index i: 207\n",
      "5.307309248156141e+90 6307840.0 132144595.0index i: 583\n",
      "5.307309248156141e+90 12615680.0 132144595.0index i: 584\n",
      "5.307309248156141e+90 197120.0 132144595.0index i: 585\n",
      "5.307309248156141e+90 24640.0 132144595.0index i: 586\n",
      "5.307309248156141e+90 50462720.0 132144595.0index i: 587\n",
      "5.307309248156141e+90 788480.0 132144595.0index i: 588\n",
      "5.307309248156141e+90 3153920.0 132144595.0index i: 589\n",
      "5.307309248156141e+90 98560.0 132144595.0index i: 590\n",
      "5.307309248156141e+90 394240.0 132144595.0index i: 591\n",
      "5.307309248156141e+90 770.0 132144595.0index i: 592\n",
      "5.307309248156141e+90 1576960.0 132144595.0index i: 593\n",
      "5.307309248156141e+90 6160.0 132144595.0index i: 594\n",
      "5.307309248156141e+90 100925440.0 132144595.0index i: 595\n",
      "5.307309248156141e+90 25231360.0 132144595.0index i: 596\n",
      "5.307309248156141e+90 49280.0 132144595.0index i: 597\n",
      "5.307309248156141e+90 1540.0 132144595.0index i: 598\n",
      "5.307309248156141e+90 12320.0 132144595.0index i: 599\n",
      "5.307309248156141e+90 3080.0 132144595.0index i: 600\n",
      "5.307309248156141e+90 385.0 132144595.0index i: 601\n",
      "4.980070558598501e+90 4194370.0 112497614.0index i: 3378\n",
      "4.980070558598501e+90 8388740.0 112497614.0index i: 3379\n",
      "4.980070558598501e+90 16777480.0 112497614.0index i: 3380\n",
      "4.980070558598501e+90 2097185.0 112497614.0index i: 3381\n",
      "4.980070558598501e+90 67109920.0 112497614.0index i: 3382\n",
      "4.980070558598501e+90 33554960.0 112497614.0index i: 3383\n",
      "2.759646638837906e+90 85987328.0 127169927.0index i: 5244\n",
      "2.759646638837906e+90 42993664.0 127169927.0index i: 5245\n",
      "2.759646638837906e+90 83972.0 127169927.0index i: 5246\n",
      "2.759646638837906e+90 41986.0 127169927.0index i: 5247\n",
      "2.759646638837906e+90 2687104.0 127169927.0index i: 5248\n",
      "2.759646638837906e+90 20993.0 127169927.0index i: 5249\n",
      "2.759646638837906e+90 10748416.0 127169927.0index i: 5250\n",
      "2.759646638837906e+90 5374208.0 127169927.0index i: 5251\n",
      "2.759646638837906e+90 1343552.0 127169927.0index i: 5252\n",
      "2.759646638837906e+90 167944.0 127169927.0index i: 5253\n",
      "2.759646638837906e+90 335888.0 127169927.0index i: 5254\n",
      "2.759646638837906e+90 21496832.0 127169927.0index i: 5255\n",
      "2.759646638837906e+90 671776.0 127169927.0index i: 5256\n",
      "1.2273937474593534e+90 37749768.0 44252467.0index i: 15980\n",
      "1.2273937474593534e+90 75499536.0 44252467.0index i: 15981\n",
      "1.2273937474593534e+90 9437442.0 44252467.0index i: 15982\n",
      "1.2273937474593534e+90 18874884.0 44252467.0index i: 15983\n",
      "1.2273937474593534e+90 4718721.0 44252467.0index i: 15984\n",
      "1.0272211448044143e+90 42205442.0 66323581.0index i: 46900\n",
      "1.0272211448044143e+90 21102721.0 66323581.0index i: 46901\n",
      "1.0272211448044143e+90 84410884.0 66323581.0index i: 46902\n",
      "3.120703308471411e+89 16916528.0 46458038.0index i: 92238\n",
      "3.120703308471411e+89 8458264.0 46458038.0index i: 92239\n",
      "3.120703308471411e+89 1057283.0 46458038.0index i: 92240\n",
      "3.120703308471411e+89 67666112.0 46458038.0index i: 92241\n",
      "3.120703308471411e+89 4229132.0 46458038.0index i: 92242\n",
      "3.120703308471411e+89 2114566.0 46458038.0index i: 92243\n",
      "3.120703308471411e+89 33833056.0 46458038.0index i: 92244\n",
      "2.709168330342313e+89 109125633.0 118217249.0index i: 161229\n",
      "5.893280351455972e+88 101367840.0 104794126.0index i: 568557\n",
      "5.893280351455972e+88 50683920.0 104794126.0index i: 568558\n",
      "5.893280351455972e+88 25341960.0 104794126.0index i: 568559\n",
      "5.893280351455972e+88 12670980.0 104794126.0index i: 568560\n",
      "5.893280351455972e+88 3167745.0 104794126.0index i: 568561\n",
      "5.893280351455972e+88 6335490.0 104794126.0index i: 568562\n",
      "4.6375391795212604e+88 68198.0 99885618.0index i: 839137\n",
      "4.6375391795212604e+88 272792.0 99885618.0index i: 839138\n",
      "4.6375391795212604e+88 2182336.0 99885618.0index i: 839139\n",
      "4.6375391795212604e+88 34099.0 99885618.0index i: 839140\n",
      "4.6375391795212604e+88 8729344.0 99885618.0index i: 839141\n",
      "4.6375391795212604e+88 545584.0 99885618.0index i: 839142\n",
      "4.6375391795212604e+88 1091168.0 99885618.0index i: 839143\n",
      "4.6375391795212604e+88 69834752.0 99885618.0index i: 839144\n",
      "4.6375391795212604e+88 17458688.0 99885618.0index i: 839145\n",
      "4.6375391795212604e+88 136396.0 99885618.0index i: 839146\n",
      "4.6375391795212604e+88 34917376.0 99885618.0index i: 839147\n",
      "4.6375391795212604e+88 4364672.0 99885618.0index i: 839148\n",
      "1.976859864728902e+88 21045317.0 10758239.0index i: 844910\n",
      "1.976859864728902e+88 42090634.0 10758239.0index i: 844911\n",
      "1.976859864728902e+88 84181268.0 10758239.0index i: 844912\n",
      "1.5914343565113173e+88 5000468.0 71332194.0index i: 6227592\n",
      "1.5914343565113173e+88 10000936.0 71332194.0index i: 6227593\n",
      "1.5914343565113173e+88 40003744.0 71332194.0index i: 6227594\n",
      "1.5914343565113173e+88 80007488.0 71332194.0index i: 6227595\n",
      "1.5914343565113173e+88 1250117.0 71332194.0index i: 6227596\n",
      "1.5914343565113173e+88 2500234.0 71332194.0index i: 6227597\n",
      "1.5914343565113173e+88 20001872.0 71332194.0index i: 6227598\n"
     ]
    },
    {
     "name": "stdout",
     "output_type": "stream",
     "text": [
      "8.703156637171266e+87 117779593.0 88121873.0index i: 18816841\n",
      "7.149021523390683e+87 79053473.0 57180180.0index i: 26783968\n"
     ]
    }
   ],
   "source": [
    "#now all in memory need to search and store the result on disk and go sleep:\n",
    "bestdiff=10**103;\n",
    "bestsolution=[0]*3;\n",
    "bestindex=0;\n",
    "for i in range(0,2**27):\n",
    "    remain=npr[0][i]-1.0915260041537781e+102;\n",
    "    if(remain<0):\n",
    "        bestindex=binarySearch(npr2[0],-1.0*remain);\n",
    "        newremain=npr2[0][bestindex]+remain;\n",
    "        if(newremain>=0 and newremain<=bestdiff):\n",
    "            bestdiff=newremain;\n",
    "            #print(bestdiff)\n",
    "            bestsolution[0]=bestdiff;\n",
    "            bestsolution[1]=npr[1][i];\n",
    "            bestsolution[2]=npr2[1][bestindex]\n",
    "            print(str(bestdiff)+\" \"+str(bestsolution[1])+\" \"+str(bestsolution[2])+\"index i: \"+str(i));\n",
    "        elif(newremain<0):\n",
    "            #try another 5;\n",
    "            for k in range(1,5):\n",
    "                if(k+bestindex<len(npr2[0])):\n",
    "                    newremain=newremain+npr2[0][bestindex+k];\n",
    "                    if(newremain>0 and newremain<=bestdiff):\n",
    "                        bestdiff=newremain;\n",
    "                        bestsolution[0]=bestdiff;\n",
    "                        bestsolution[1]=npr[1][i];\n",
    "                        bestsolution[2]=npr2[1][bestindex+k]\n",
    "                        print(\"adjusted-\"+str(bestdiff)+\" \"+str(bestsolution[1])+\" \"+str(bestsolution[2])+\"index i: \"+str(i));\n",
    "    else:\n",
    "        break;\n",
    "with open('rst-best.data', 'wb') as handle:\n",
    "    pickle.dump(bestsolution, handle, protocol=pickle.HIGHEST_PROTOCOL)\n",
    "\n",
    "                    \n",
    "            \n",
    "            \n",
    "        "
   ]
  },
  {
   "cell_type": "code",
   "execution_count": 792,
   "metadata": {},
   "outputs": [
    {
     "name": "stdout",
     "output_type": "stream",
     "text": [
      "adjusted-1.0915260841394336e+102 0.0 123724508.0index i: 0\n",
      "4.323563852017052e+93 16384.0 112044763.0index i: 1\n",
      "4.323563852017052e+93 2097152.0 112044763.0index i: 2\n",
      "4.323563852017052e+93 256.0 112044763.0index i: 3\n",
      "4.323563852017052e+93 67108864.0 112044763.0index i: 4\n",
      "4.323563852017052e+93 64.0 112044763.0index i: 5\n",
      "4.323563852017052e+93 131072.0 112044763.0index i: 6\n",
      "4.323563852017052e+93 16777216.0 112044763.0index i: 7\n",
      "4.323563852017052e+93 1024.0 112044763.0index i: 8\n",
      "4.323563852017052e+93 512.0 112044763.0index i: 9\n",
      "4.323563852017052e+93 262144.0 112044763.0index i: 10\n",
      "4.323563852017052e+93 8388608.0 112044763.0index i: 11\n",
      "4.323563852017052e+93 8192.0 112044763.0index i: 12\n",
      "4.323563852017052e+93 524288.0 112044763.0index i: 13\n",
      "4.323563852017052e+93 4096.0 112044763.0index i: 14\n",
      "4.323563852017052e+93 1048576.0 112044763.0index i: 15\n",
      "4.323563852017052e+93 65536.0 112044763.0index i: 16\n",
      "4.323563852017052e+93 128.0 112044763.0index i: 17\n",
      "4.323563852017052e+93 32768.0 112044763.0index i: 18\n",
      "4.323563852017052e+93 4194304.0 112044763.0index i: 19\n",
      "4.323563852017052e+93 32.0 112044763.0index i: 20\n",
      "4.323563852017052e+93 33554432.0 112044763.0index i: 21\n",
      "4.323563852017052e+93 1.0 112044763.0index i: 22\n",
      "4.323563852017052e+93 2.0 112044763.0index i: 23\n",
      "4.323563852017052e+93 16.0 112044763.0index i: 24\n",
      "4.323563852017052e+93 4.0 112044763.0index i: 25\n",
      "4.323563852017052e+93 8.0 112044763.0index i: 26\n",
      "4.323563852017052e+93 2048.0 112044763.0index i: 27\n",
      "6.1658321346299e+92 264.0 81426874.0index i: 126\n",
      "6.1658321346299e+92 1056.0 81426874.0index i: 127\n",
      "6.1658321346299e+92 67584.0 81426874.0index i: 128\n",
      "6.1658321346299e+92 33792.0 81426874.0index i: 129\n",
      "6.1658321346299e+92 1081344.0 81426874.0index i: 130\n",
      "6.1658321346299e+92 34603008.0 81426874.0index i: 131\n",
      "6.1658321346299e+92 17301504.0 81426874.0index i: 132\n",
      "6.1658321346299e+92 4325376.0 81426874.0index i: 133\n",
      "6.1658321346299e+92 8448.0 81426874.0index i: 134\n",
      "6.1658321346299e+92 270336.0 81426874.0index i: 135\n",
      "6.1658321346299e+92 540672.0 81426874.0index i: 136\n",
      "6.1658321346299e+92 132.0 81426874.0index i: 137\n",
      "6.1658321346299e+92 528.0 81426874.0index i: 138\n",
      "6.1658321346299e+92 4224.0 81426874.0index i: 139\n",
      "6.1658321346299e+92 2112.0 81426874.0index i: 140\n",
      "6.1658321346299e+92 16896.0 81426874.0index i: 141\n",
      "6.1658321346299e+92 2162688.0 81426874.0index i: 142\n",
      "6.1658321346299e+92 135168.0 81426874.0index i: 143\n",
      "6.1658321346299e+92 69206016.0 81426874.0index i: 144\n",
      "6.1658321346299e+92 66.0 81426874.0index i: 145\n",
      "6.1658321346299e+92 33.0 81426874.0index i: 146\n",
      "6.1658321346299e+92 8650752.0 81426874.0index i: 147\n",
      "8.246576606904351e+91 2056.0 119103179.0index i: 189\n",
      "8.246576606904351e+91 257.0 119103179.0index i: 190\n",
      "8.246576606904351e+91 16448.0 119103179.0index i: 191\n",
      "8.246576606904351e+91 514.0 119103179.0index i: 192\n",
      "8.246576606904351e+91 263168.0 119103179.0index i: 193\n",
      "8.246576606904351e+91 526336.0 119103179.0index i: 194\n",
      "8.246576606904351e+91 4112.0 119103179.0index i: 195\n",
      "8.246576606904351e+91 1052672.0 119103179.0index i: 196\n",
      "8.246576606904351e+91 131584.0 119103179.0index i: 197\n",
      "8.246576606904351e+91 2105344.0 119103179.0index i: 198\n",
      "8.246576606904351e+91 16842752.0 119103179.0index i: 199\n",
      "8.246576606904351e+91 4210688.0 119103179.0index i: 200\n",
      "8.246576606904351e+91 32896.0 119103179.0index i: 201\n",
      "8.246576606904351e+91 8421376.0 119103179.0index i: 202\n",
      "8.246576606904351e+91 65792.0 119103179.0index i: 203\n",
      "8.246576606904351e+91 33685504.0 119103179.0index i: 204\n",
      "8.246576606904351e+91 1028.0 119103179.0index i: 205\n",
      "8.246576606904351e+91 8224.0 119103179.0index i: 206\n",
      "8.246576606904351e+91 67371008.0 119103179.0index i: 207\n",
      "5.307309248156141e+90 6307840.0 132144595.0index i: 583\n",
      "5.307309248156141e+90 12615680.0 132144595.0index i: 584\n",
      "5.307309248156141e+90 197120.0 132144595.0index i: 585\n",
      "5.307309248156141e+90 24640.0 132144595.0index i: 586\n",
      "5.307309248156141e+90 50462720.0 132144595.0index i: 587\n",
      "5.307309248156141e+90 788480.0 132144595.0index i: 588\n",
      "5.307309248156141e+90 3153920.0 132144595.0index i: 589\n",
      "5.307309248156141e+90 98560.0 132144595.0index i: 590\n",
      "5.307309248156141e+90 394240.0 132144595.0index i: 591\n",
      "5.307309248156141e+90 770.0 132144595.0index i: 592\n",
      "5.307309248156141e+90 1576960.0 132144595.0index i: 593\n",
      "5.307309248156141e+90 6160.0 132144595.0index i: 594\n",
      "5.307309248156141e+90 100925440.0 132144595.0index i: 595\n",
      "5.307309248156141e+90 25231360.0 132144595.0index i: 596\n",
      "5.307309248156141e+90 49280.0 132144595.0index i: 597\n",
      "5.307309248156141e+90 1540.0 132144595.0index i: 598\n",
      "5.307309248156141e+90 12320.0 132144595.0index i: 599\n",
      "5.307309248156141e+90 3080.0 132144595.0index i: 600\n",
      "5.307309248156141e+90 385.0 132144595.0index i: 601\n",
      "4.980070558598501e+90 4194370.0 112497614.0index i: 3378\n",
      "4.980070558598501e+90 8388740.0 112497614.0index i: 3379\n",
      "4.980070558598501e+90 16777480.0 112497614.0index i: 3380\n",
      "4.980070558598501e+90 2097185.0 112497614.0index i: 3381\n",
      "4.980070558598501e+90 67109920.0 112497614.0index i: 3382\n",
      "4.980070558598501e+90 33554960.0 112497614.0index i: 3383\n",
      "2.759646638837906e+90 85987328.0 127169927.0index i: 5244\n",
      "2.759646638837906e+90 42993664.0 127169927.0index i: 5245\n",
      "2.759646638837906e+90 83972.0 127169927.0index i: 5246\n",
      "2.759646638837906e+90 41986.0 127169927.0index i: 5247\n",
      "2.759646638837906e+90 2687104.0 127169927.0index i: 5248\n",
      "2.759646638837906e+90 20993.0 127169927.0index i: 5249\n",
      "2.759646638837906e+90 10748416.0 127169927.0index i: 5250\n",
      "2.759646638837906e+90 5374208.0 127169927.0index i: 5251\n",
      "2.759646638837906e+90 1343552.0 127169927.0index i: 5252\n",
      "2.759646638837906e+90 167944.0 127169927.0index i: 5253\n",
      "2.759646638837906e+90 335888.0 127169927.0index i: 5254\n",
      "2.759646638837906e+90 21496832.0 127169927.0index i: 5255\n",
      "2.759646638837906e+90 671776.0 127169927.0index i: 5256\n",
      "1.2273937474593534e+90 37749768.0 44252467.0index i: 15980\n",
      "1.2273937474593534e+90 75499536.0 44252467.0index i: 15981\n",
      "1.2273937474593534e+90 9437442.0 44252467.0index i: 15982\n",
      "1.2273937474593534e+90 18874884.0 44252467.0index i: 15983\n",
      "1.2273937474593534e+90 4718721.0 44252467.0index i: 15984\n",
      "1.0272211448044143e+90 42205442.0 66323581.0index i: 46900\n",
      "1.0272211448044143e+90 21102721.0 66323581.0index i: 46901\n",
      "1.0272211448044143e+90 84410884.0 66323581.0index i: 46902\n",
      "3.120703308471411e+89 16916528.0 46458038.0index i: 92238\n",
      "3.120703308471411e+89 8458264.0 46458038.0index i: 92239\n",
      "3.120703308471411e+89 1057283.0 46458038.0index i: 92240\n",
      "3.120703308471411e+89 67666112.0 46458038.0index i: 92241\n",
      "3.120703308471411e+89 4229132.0 46458038.0index i: 92242\n",
      "3.120703308471411e+89 2114566.0 46458038.0index i: 92243\n",
      "3.120703308471411e+89 33833056.0 46458038.0index i: 92244\n",
      "2.709168330342313e+89 109125633.0 118217249.0index i: 161229\n",
      "5.893280351455972e+88 101367840.0 104794126.0index i: 568557\n",
      "5.893280351455972e+88 50683920.0 104794126.0index i: 568558\n",
      "5.893280351455972e+88 25341960.0 104794126.0index i: 568559\n",
      "5.893280351455972e+88 12670980.0 104794126.0index i: 568560\n",
      "5.893280351455972e+88 3167745.0 104794126.0index i: 568561\n",
      "5.893280351455972e+88 6335490.0 104794126.0index i: 568562\n",
      "4.6375391795212604e+88 68198.0 99885618.0index i: 839137\n",
      "4.6375391795212604e+88 272792.0 99885618.0index i: 839138\n",
      "4.6375391795212604e+88 2182336.0 99885618.0index i: 839139\n",
      "4.6375391795212604e+88 34099.0 99885618.0index i: 839140\n",
      "4.6375391795212604e+88 8729344.0 99885618.0index i: 839141\n",
      "4.6375391795212604e+88 545584.0 99885618.0index i: 839142\n",
      "4.6375391795212604e+88 1091168.0 99885618.0index i: 839143\n",
      "4.6375391795212604e+88 69834752.0 99885618.0index i: 839144\n",
      "4.6375391795212604e+88 17458688.0 99885618.0index i: 839145\n",
      "4.6375391795212604e+88 136396.0 99885618.0index i: 839146\n",
      "4.6375391795212604e+88 34917376.0 99885618.0index i: 839147\n",
      "4.6375391795212604e+88 4364672.0 99885618.0index i: 839148\n",
      "1.976859864728902e+88 21045317.0 10758239.0index i: 844910\n",
      "1.976859864728902e+88 42090634.0 10758239.0index i: 844911\n",
      "1.976859864728902e+88 84181268.0 10758239.0index i: 844912\n",
      "1.5914343565113173e+88 5000468.0 71332194.0index i: 6227592\n",
      "1.5914343565113173e+88 10000936.0 71332194.0index i: 6227593\n",
      "1.5914343565113173e+88 40003744.0 71332194.0index i: 6227594\n",
      "1.5914343565113173e+88 80007488.0 71332194.0index i: 6227595\n",
      "1.5914343565113173e+88 1250117.0 71332194.0index i: 6227596\n",
      "1.5914343565113173e+88 2500234.0 71332194.0index i: 6227597\n",
      "1.5914343565113173e+88 20001872.0 71332194.0index i: 6227598\n"
     ]
    },
    {
     "name": "stdout",
     "output_type": "stream",
     "text": [
      "8.703156637171266e+87 117779593.0 88121873.0index i: 18816841\n",
      "7.149021523390683e+87 79053473.0 57180180.0index i: 26783968\n"
     ]
    }
   ],
   "source": [
    "#now all in memory need to search and store the result on disk and go sleep:\n",
    "bestdiff=10**103;\n",
    "bestsolution=[0]*3;\n",
    "for i in range(0,2**27):\n",
    "    remain=npr[0][i]-1.0915260041537781e+102;\n",
    "    if(remain<0):\n",
    "        bestindex=binarySearch(npr2[0],-1.0*remain);\n",
    "        newremain=npr2[0][bestindex]+remain;\n",
    "        if(newremain>=0 and newremain<=bestdiff):\n",
    "            bestdiff=newremain;\n",
    "            #print(bestdiff)\n",
    "            bestsolution[0]=bestdiff;\n",
    "            bestsolution[1]=npr[1][i];\n",
    "            bestsolution[2]=npr2[1][bestindex]\n",
    "            print(str(bestdiff)+\" \"+str(bestsolution[1])+\" \"+str(bestsolution[2])+\"index i: \"+str(i));\n",
    "        elif(newremain<0):\n",
    "            #try another 5;\n",
    "            for k in range(1,5):\n",
    "                if(k+bestindex<=len(npr2[0])):\n",
    "                    newremain=newremain+npr2[0][bestindex+k];\n",
    "                    if(newremain>0 and newremain<=bestdiff):\n",
    "                        bestdiff=newremain;\n",
    "                        bestsolution[0]=bestdiff;\n",
    "                        bestsolution[1]=npr[1][i];\n",
    "                        bestsolution[2]=npr2[1][bestindex+k]\n",
    "                        print(\"adjusted-\"+str(bestdiff)+\" \"+str(bestsolution[1])+\" \"+str(bestsolution[2])+\"index i: \"+str(i));\n",
    "    else:\n",
    "        break;\n",
    "with open('rst-best.data', 'wb') as handle:\n",
    "    pickle.dump(bestsolution, handle, protocol=pickle.HIGHEST_PROTOCOL)\n",
    "\n",
    "                    "
   ]
  },
  {
   "cell_type": "code",
   "execution_count": 633,
   "metadata": {
    "collapsed": true
   },
   "outputs": [],
   "source": [
    "bestindex=binarySearch(npr[0],1.1698981355426968e+102)"
   ]
  },
  {
   "cell_type": "code",
   "execution_count": 638,
   "metadata": {},
   "outputs": [
    {
     "data": {
      "text/plain": [
       "31456238.0"
      ]
     },
     "execution_count": 638,
     "metadata": {},
     "output_type": "execute_result"
    }
   ],
   "source": [
    "npr[1][bestindex]"
   ]
  },
  {
   "cell_type": "code",
   "execution_count": 647,
   "metadata": {
    "collapsed": true
   },
   "outputs": [],
   "source": [
    "t=intToB(31456238)"
   ]
  },
  {
   "cell_type": "code",
   "execution_count": 648,
   "metadata": {},
   "outputs": [
    {
     "data": {
      "text/plain": [
       "'1110111111111101111101110'"
      ]
     },
     "execution_count": 648,
     "metadata": {},
     "output_type": "execute_result"
    }
   ],
   "source": [
    "t"
   ]
  },
  {
   "cell_type": "code",
   "execution_count": 643,
   "metadata": {},
   "outputs": [
    {
     "data": {
      "text/plain": [
       "25"
      ]
     },
     "execution_count": 643,
     "metadata": {},
     "output_type": "execute_result"
    }
   ],
   "source": [
    "len(t)"
   ]
  },
  {
   "cell_type": "code",
   "execution_count": 766,
   "metadata": {
    "collapsed": true
   },
   "outputs": [],
   "source": [
    "def generateTheFinalList(num1,num2,num3,goldsum):\n",
    "    remain=npr[0][num3];\n",
    "    bestindex=binarySearch(npr2[0],-1.0*remain);\n",
    "    newremain=npr2[0][bestindex]+remain;\n",
    "    print(\"remian: \"+str(newremain));\n",
    "    t=intToB(23123580)\n",
    "    index0=[]\n",
    "    for i in range(len(t)-1,-1,-1):\n",
    "         if(t[i]=='1'):\n",
    "            index0.append(fixed1[i])\n",
    "    sumsum0=0;\n",
    "    realindex=0;\n",
    "    for i in index0:\n",
    "        sumsum0=sumsum0+mlist[i]\n",
    "    for i in range(0,2**27):\n",
    "        if(org2[i]==npr2[0][bestindex]):\n",
    "            realindex=i;\n",
    "    l=intToB(realindex)\n",
    "    index1=[]\n",
    "    for i in range(len(l)-1,-1,-1):\n",
    "         if(l[i]=='1'):\n",
    "            index1.append(fixed2[i])\n",
    "    sumsum1=0;\n",
    "    for i in index1:\n",
    "        sumsum1=sumsum1+mlist[i]\n",
    "    totalindex=[]\n",
    "    totalindex.extend(index0)\n",
    "    totalindex.extend(index1)\n",
    "    totalindex.extend(goldlist)\n",
    "    final=[]\n",
    "    for i in range(0,100):\n",
    "        if i in totalindex:\n",
    "            final.append(1);\n",
    "        else:\n",
    "            final.append(0);   "
   ]
  },
  {
   "cell_type": "markdown",
   "metadata": {},
   "source": [
    "# figure out how to decode the solution from the iterative i"
   ]
  },
  {
   "cell_type": "code",
   "execution_count": null,
   "metadata": {
    "collapsed": true
   },
   "outputs": [],
   "source": [
    "6.030044241468663e+88 29627462.0 21134256.0index i: 2657385"
   ]
  },
  {
   "cell_type": "code",
   "execution_count": null,
   "metadata": {
    "collapsed": true
   },
   "outputs": [],
   "source": [
    "9.561039219978148e+88 3020168.0 31877329.0index i: 1829216"
   ]
  },
  {
   "cell_type": "code",
   "execution_count": null,
   "metadata": {
    "collapsed": true
   },
   "outputs": [],
   "source": [
    "2.4866161820489332e+86 23123580.0 10950460.0index i: 22284199"
   ]
  },
  {
   "cell_type": "code",
   "execution_count": 735,
   "metadata": {},
   "outputs": [
    {
     "data": {
      "text/plain": [
       "7.118321686617497e+101"
      ]
     },
     "execution_count": 735,
     "metadata": {},
     "output_type": "execute_result"
    }
   ],
   "source": [
    "npr[0][22284199]"
   ]
  },
  {
   "cell_type": "code",
   "execution_count": 736,
   "metadata": {},
   "outputs": [
    {
     "data": {
      "text/plain": [
       "-6.721499155423519e+101"
      ]
     },
     "execution_count": 736,
     "metadata": {},
     "output_type": "execute_result"
    }
   ],
   "source": [
    "remain=npr[0][22284199]-1.3839820842041017e+102;\n",
    "remain"
   ]
  },
  {
   "cell_type": "code",
   "execution_count": 737,
   "metadata": {},
   "outputs": [
    {
     "data": {
      "text/plain": [
       "2.4866161820489332e+86"
      ]
     },
     "execution_count": 737,
     "metadata": {},
     "output_type": "execute_result"
    }
   ],
   "source": [
    "bestindex=binarySearch(npr2[0],-1.0*remain);\n",
    "newremain=npr2[0][bestindex]+remain;\n",
    "newremain"
   ]
  },
  {
   "cell_type": "code",
   "execution_count": 748,
   "metadata": {},
   "outputs": [
    {
     "data": {
      "text/plain": [
       "6.721499155423522e+101"
      ]
     },
     "execution_count": 748,
     "metadata": {},
     "output_type": "execute_result"
    }
   ],
   "source": [
    "npr2[0][bestindex]"
   ]
  },
  {
   "cell_type": "code",
   "execution_count": 743,
   "metadata": {
    "collapsed": true
   },
   "outputs": [],
   "source": [
    "t=intToB(23123580)\n",
    "index0=[]\n",
    "for i in range(len(t)-1,-1,-1):\n",
    "     if(t[i]=='1'):\n",
    "        index0.append(fixed1[i])\n",
    "sumsum0=0;\n",
    "for i in index0:\n",
    "    sumsum0=sumsum0+mlist[i]"
   ]
  },
  {
   "cell_type": "code",
   "execution_count": 749,
   "metadata": {},
   "outputs": [
    {
     "name": "stdout",
     "output_type": "stream",
     "text": [
      "2737615\n",
      "5475230\n",
      "10950460\n",
      "21900920\n"
     ]
    }
   ],
   "source": [
    "\n",
    "for i in range(0,2**25):\n",
    "    if(org2[i]==6.721499155423522e+101):\n",
    "        print(i)\n",
    "        #break;"
   ]
  },
  {
   "cell_type": "code",
   "execution_count": 754,
   "metadata": {
    "collapsed": true
   },
   "outputs": [],
   "source": [
    "l=intToB(21900920)\n",
    "index1=[]\n",
    "for i in range(len(l)-1,-1,-1):\n",
    "     if(l[i]=='1'):\n",
    "        index1.append(fixed2[i])\n",
    "sumsum1=0;\n",
    "for i in index1:\n",
    "    sumsum1=sumsum1+mlist[i]"
   ]
  },
  {
   "cell_type": "code",
   "execution_count": 756,
   "metadata": {},
   "outputs": [
    {
     "data": {
      "text/plain": [
       "6.721499155423522e+101"
      ]
     },
     "execution_count": 756,
     "metadata": {},
     "output_type": "execute_result"
    }
   ],
   "source": [
    "sumsum1"
   ]
  },
  {
   "cell_type": "code",
   "execution_count": 757,
   "metadata": {},
   "outputs": [
    {
     "data": {
      "text/plain": [
       "[80, 70, 65, 64, 63, 50, 47, 44, 40, 36, 9, 7, 1]"
      ]
     },
     "execution_count": 757,
     "metadata": {},
     "output_type": "execute_result"
    }
   ],
   "source": [
    "index0"
   ]
  },
  {
   "cell_type": "code",
   "execution_count": 758,
   "metadata": {},
   "outputs": [
    {
     "data": {
      "text/plain": [
       "[68, 66, 62, 61, 53, 49, 48, 37, 19, 16, 15, 8, 0]"
      ]
     },
     "execution_count": 758,
     "metadata": {},
     "output_type": "execute_result"
    }
   ],
   "source": [
    "index1"
   ]
  },
  {
   "cell_type": "code",
   "execution_count": 759,
   "metadata": {
    "collapsed": true
   },
   "outputs": [],
   "source": [
    "totalindex=[]\n",
    "totalindex.extend(index0)\n",
    "totalindex.extend(index1)\n",
    "totalindex.extend(goldlist)\n",
    "final=[]\n",
    "for i in range(0,100):\n",
    "    if i in totalindex:\n",
    "        final.append(1);\n",
    "    else:\n",
    "        final.append(0);"
   ]
  },
  {
   "cell_type": "code",
   "execution_count": 762,
   "metadata": {
    "collapsed": true
   },
   "outputs": [],
   "source": [
    "finalsum=0;\n",
    "for i in range(0,100):\n",
    "    finalsum=finalsum+final[i]*mlist[i]"
   ]
  },
  {
   "cell_type": "code",
   "execution_count": 763,
   "metadata": {},
   "outputs": [
    {
     "data": {
      "text/plain": [
       "4.9732323640978664e+86"
      ]
     },
     "execution_count": 763,
     "metadata": {},
     "output_type": "execute_result"
    }
   ],
   "source": [
    "finalsum-target"
   ]
  },
  {
   "cell_type": "markdown",
   "metadata": {},
   "source": [
    "# using this to find the data for npr2"
   ]
  },
  {
   "cell_type": "code",
   "execution_count": 765,
   "metadata": {},
   "outputs": [
    {
     "name": "stdout",
     "output_type": "stream",
     "text": [
      "adjusted-1.3532658844918961e+102 24576.0 33554431.0index i: 26\n",
      "adjusted-1.3532658844918961e+102 49152.0 33554431.0index i: 27\n",
      "adjusted-1.3532658844918961e+102 12.0 33554431.0index i: 28\n",
      "adjusted-1.3532658844918961e+102 786432.0 33554431.0index i: 29\n",
      "adjusted-1.3532658844918961e+102 25165824.0 33554431.0index i: 30\n",
      "adjusted-1.3532658844918961e+102 48.0 33554431.0index i: 31\n",
      "adjusted-1.3532658844918961e+102 6291456.0 33554431.0index i: 32\n",
      "adjusted-1.3532658844918961e+102 3072.0 33554431.0index i: 33\n",
      "adjusted-1.3532658844918961e+102 6.0 33554431.0index i: 34\n",
      "adjusted-1.3532658844918961e+102 196608.0 33554431.0index i: 35\n",
      "adjusted-1.3532658844918961e+102 98304.0 33554431.0index i: 36\n",
      "adjusted-1.3532658844918961e+102 12288.0 33554431.0index i: 37\n",
      "adjusted-1.3532658844918961e+102 192.0 33554431.0index i: 38\n",
      "adjusted-1.3532658844918961e+102 393216.0 33554431.0index i: 39\n",
      "adjusted-1.3532658844918961e+102 384.0 33554431.0index i: 40\n",
      "adjusted-1.3532658844918961e+102 6144.0 33554431.0index i: 41\n",
      "adjusted-1.3532658844918961e+102 1572864.0 33554431.0index i: 42\n",
      "adjusted-1.3532658844918961e+102 24.0 33554431.0index i: 43\n",
      "adjusted-1.3532658844918961e+102 12582912.0 33554431.0index i: 44\n",
      "adjusted-1.3532658844918961e+102 768.0 33554431.0index i: 45\n",
      "adjusted-1.3532658844918961e+102 3.0 33554431.0index i: 46\n",
      "adjusted-1.3532658844918961e+102 1536.0 33554431.0index i: 47\n",
      "adjusted-1.3532658844918961e+102 3145728.0 33554431.0index i: 48\n",
      "adjusted-1.3532658844918961e+102 96.0 33554431.0index i: 49\n",
      "2.0487587452983349e+99 4718592.0 25165823.0index i: 73\n",
      "2.0487587452983349e+99 2304.0 25165823.0index i: 74\n",
      "2.0487587452983349e+99 9216.0 25165823.0index i: 75\n",
      "2.0487587452983349e+99 288.0 25165823.0index i: 76\n",
      "2.0487587452983349e+99 36.0 25165823.0index i: 77\n",
      "2.0487587452983349e+99 144.0 25165823.0index i: 78\n",
      "2.0487587452983349e+99 18874368.0 25165823.0index i: 79\n",
      "2.0487587452983349e+99 4608.0 25165823.0index i: 80\n",
      "2.0487587452983349e+99 2359296.0 25165823.0index i: 81\n",
      "2.0487587452983349e+99 1152.0 25165823.0index i: 82\n",
      "2.0487587452983349e+99 576.0 25165823.0index i: 83\n",
      "2.0487587452983349e+99 147456.0 25165823.0index i: 84\n",
      "2.0487587452983349e+99 18.0 25165823.0index i: 85\n",
      "2.0487587452983349e+99 294912.0 25165823.0index i: 86\n",
      "2.0487587452983349e+99 9437184.0 25165823.0index i: 87\n",
      "2.0487587452983349e+99 589824.0 25165823.0index i: 88\n",
      "2.0487587452983349e+99 9.0 25165823.0index i: 89\n",
      "2.0487587452983349e+99 73728.0 25165823.0index i: 90\n",
      "2.0487587452983349e+99 18432.0 25165823.0index i: 91\n",
      "2.0487587452983349e+99 1179648.0 25165823.0index i: 92\n",
      "2.0487587452983349e+99 72.0 25165823.0index i: 93\n",
      "2.0487587452983349e+99 36864.0 25165823.0index i: 94\n",
      "3.9053242096542954e+98 32772.0 33488895.0index i: 336\n",
      "3.9053242096542954e+98 2097408.0 33488895.0index i: 337\n",
      "3.9053242096542954e+98 262176.0 33488895.0index i: 338\n",
      "3.9053242096542954e+98 131088.0 33488895.0index i: 339\n",
      "3.9053242096542954e+98 65544.0 33488895.0index i: 340\n",
      "3.9053242096542954e+98 16779264.0 33488895.0index i: 341\n",
      "3.9053242096542954e+98 4194816.0 33488895.0index i: 342\n",
      "3.9053242096542954e+98 524352.0 33488895.0index i: 343\n",
      "3.9053242096542954e+98 8389632.0 33488895.0index i: 344\n",
      "3.9053242096542954e+98 16386.0 33488895.0index i: 345\n",
      "3.9053242096542954e+98 8193.0 33488895.0index i: 346\n",
      "3.9053242096542954e+98 1048704.0 33488895.0index i: 347\n",
      "2.0632652049711206e+98 8388640.0 33521663.0index i: 522\n",
      "2.0632652049711206e+98 16777280.0 33521663.0index i: 523\n",
      "2.0632652049711206e+98 1048580.0 33521663.0index i: 524\n",
      "2.0632652049711206e+98 262145.0 33521663.0index i: 525\n",
      "2.0632652049711206e+98 4194320.0 33521663.0index i: 526\n",
      "2.0632652049711206e+98 524290.0 33521663.0index i: 527\n",
      "2.0632652049711206e+98 2097160.0 33521663.0index i: 528\n",
      "9.237836360827245e+97 16777217.0 33553407.0index i: 696\n",
      "3.503511248783866e+97 2184.0 24903679.0index i: 782\n",
      "3.503511248783866e+97 2236416.0 24903679.0index i: 783\n",
      "3.503511248783866e+97 139776.0 24903679.0index i: 784\n",
      "3.503511248783866e+97 559104.0 24903679.0index i: 785\n",
      "3.503511248783866e+97 1092.0 24903679.0index i: 786\n",
      "3.503511248783866e+97 8736.0 24903679.0index i: 787\n",
      "3.503511248783866e+97 546.0 24903679.0index i: 788\n",
      "3.503511248783866e+97 69888.0 24903679.0index i: 789\n",
      "3.503511248783866e+97 273.0 24903679.0index i: 790\n",
      "3.503511248783866e+97 4472832.0 24903679.0index i: 791\n",
      "3.503511248783866e+97 1118208.0 24903679.0index i: 792\n",
      "3.503511248783866e+97 34944.0 24903679.0index i: 793\n",
      "3.503511248783866e+97 17891328.0 24903679.0index i: 794\n",
      "3.503511248783866e+97 279552.0 24903679.0index i: 795\n",
      "3.503511248783866e+97 17472.0 24903679.0index i: 796\n",
      "3.503511248783866e+97 8945664.0 24903679.0index i: 797\n",
      "3.503511248783866e+97 4368.0 24903679.0index i: 798\n",
      "2.6119419603123814e+97 590336.0 33554423.0index i: 962\n",
      "2.6119419603123814e+97 147584.0 33554423.0index i: 963\n",
      "2.6119419603123814e+97 2306.0 33554423.0index i: 964\n",
      "2.6119419603123814e+97 295168.0 33554423.0index i: 965\n",
      "2.6119419603123814e+97 18448.0 33554423.0index i: 966\n",
      "2.6119419603123814e+97 9224.0 33554423.0index i: 967\n",
      "2.6119419603123814e+97 36896.0 33554423.0index i: 968\n",
      "2.6119419603123814e+97 2361344.0 33554423.0index i: 969\n",
      "2.6119419603123814e+97 73792.0 33554423.0index i: 970\n",
      "2.6119419603123814e+97 4612.0 33554423.0index i: 971\n",
      "2.6119419603123814e+97 18890752.0 33554423.0index i: 972\n",
      "2.6119419603123814e+97 1180672.0 33554423.0index i: 973\n",
      "2.6119419603123814e+97 9445376.0 33554423.0index i: 974\n",
      "2.6119419603123814e+97 4722688.0 33554423.0index i: 975\n",
      "2.6119419603123814e+97 1153.0 33554423.0index i: 976\n",
      "9.571563375377758e+95 6291457.0 25165567.0index i: 1564\n",
      "9.571563375377758e+95 25165828.0 25165567.0index i: 1565\n",
      "9.571563375377758e+95 12582914.0 25165567.0index i: 1566\n",
      "9.31122023859733e+95 3672064.0 29359871.0index i: 2317\n",
      "9.31122023859733e+95 3586.0 29359871.0index i: 2318\n",
      "9.31122023859733e+95 7344128.0 29359871.0index i: 2319\n",
      "9.31122023859733e+95 7172.0 29359871.0index i: 2320\n",
      "9.31122023859733e+95 459008.0 29359871.0index i: 2321\n",
      "9.31122023859733e+95 14344.0 29359871.0index i: 2322\n",
      "9.31122023859733e+95 229504.0 29359871.0index i: 2323\n",
      "9.31122023859733e+95 1793.0 29359871.0index i: 2324\n",
      "9.31122023859733e+95 14688256.0 29359871.0index i: 2325\n",
      "9.31122023859733e+95 1836032.0 29359871.0index i: 2326\n",
      "9.31122023859733e+95 918016.0 29359871.0index i: 2327\n",
      "9.31122023859733e+95 57376.0 29359871.0index i: 2328\n",
      "9.31122023859733e+95 29376512.0 29359871.0index i: 2329\n",
      "9.31122023859733e+95 114752.0 29359871.0index i: 2330\n",
      "9.31122023859733e+95 28688.0 29359871.0index i: 2331\n",
      "1.0923534281004713e+95 4618.0 33549823.0index i: 6322\n",
      "1.0923534281004713e+95 1182208.0 33549823.0index i: 6323\n",
      "1.0923534281004713e+95 9457664.0 33549823.0index i: 6324\n",
      "1.0923534281004713e+95 147776.0 33549823.0index i: 6325\n",
      "1.0923534281004713e+95 591104.0 33549823.0index i: 6326\n",
      "1.0923534281004713e+95 4728832.0 33549823.0index i: 6327\n",
      "1.0923534281004713e+95 36944.0 33549823.0index i: 6328\n",
      "1.0923534281004713e+95 295552.0 33549823.0index i: 6329\n",
      "1.0923534281004713e+95 18915328.0 33549823.0index i: 6330\n",
      "1.0923534281004713e+95 2309.0 33549823.0index i: 6331\n",
      "1.0923534281004713e+95 73888.0 33549823.0index i: 6332\n",
      "1.0923534281004713e+95 2364416.0 33549823.0index i: 6333\n",
      "1.0923534281004713e+95 9236.0 33549823.0index i: 6334\n",
      "1.0923534281004713e+95 18472.0 33549823.0index i: 6335\n",
      "2.0839866716495775e+94 19922952.0 16646143.0index i: 7286\n",
      "2.0839866716495775e+94 2490369.0 16646143.0index i: 7287\n",
      "2.0839866716495775e+94 4980738.0 16646143.0index i: 7288\n",
      "2.0839866716495775e+94 9961476.0 16646143.0index i: 7289\n",
      "6.431865253482587e+93 426176.0 25165783.0index i: 19474\n",
      "6.431865253482587e+93 53272.0 25165783.0index i: 19475\n",
      "6.431865253482587e+93 1704704.0 25165783.0index i: 19476\n",
      "6.431865253482587e+93 3409408.0 25165783.0index i: 19477\n",
      "6.431865253482587e+93 26636.0 25165783.0index i: 19478\n",
      "6.431865253482587e+93 213088.0 25165783.0index i: 19479\n",
      "6.431865253482587e+93 6818816.0 25165783.0index i: 19480\n",
      "6.431865253482587e+93 6659.0 25165783.0index i: 19481\n",
      "6.431865253482587e+93 852352.0 25165783.0index i: 19482\n",
      "6.431865253482587e+93 13318.0 25165783.0index i: 19483\n",
      "6.431865253482587e+93 27275264.0 25165783.0index i: 19484\n",
      "6.431865253482587e+93 106544.0 25165783.0index i: 19485\n",
      "6.431865253482587e+93 13637632.0 25165783.0index i: 19486\n"
     ]
    },
    {
     "name": "stdout",
     "output_type": "stream",
     "text": [
      "5.421631178464222e+93 17629185.0 33029855.0index i: 37164\n",
      "5.406978295288262e+93 5259312.0 16646015.0index i: 48309\n",
      "5.406978295288262e+93 1314828.0 16646015.0index i: 48310\n",
      "5.406978295288262e+93 10518624.0 16646015.0index i: 48311\n",
      "5.406978295288262e+93 21037248.0 16646015.0index i: 48312\n",
      "5.406978295288262e+93 328707.0 16646015.0index i: 48313\n",
      "5.406978295288262e+93 657414.0 16646015.0index i: 48314\n",
      "5.406978295288262e+93 2629656.0 16646015.0index i: 48315\n",
      "2.4327038566059303e+92 3147786.0 33554031.0index i: 62318\n",
      "2.4327038566059303e+92 6295572.0 33554031.0index i: 62319\n",
      "2.4327038566059303e+92 1573893.0 33554031.0index i: 62320\n",
      "2.4327038566059303e+92 12591144.0 33554031.0index i: 62321\n",
      "2.4327038566059303e+92 25182288.0 33554031.0index i: 62322\n",
      "7.192338377281975e+91 1065041.0 23030783.0index i: 107838\n",
      "7.192338377281975e+91 2130082.0 23030783.0index i: 107839\n",
      "7.192338377281975e+91 4260164.0 23030783.0index i: 107840\n",
      "7.192338377281975e+91 17040656.0 23030783.0index i: 107841\n",
      "7.192338377281975e+91 8520328.0 23030783.0index i: 107842\n",
      "3.614980440058188e+91 32114690.0 32486783.0index i: 419683\n",
      "3.614980440058188e+91 16057345.0 32486783.0index i: 419684\n",
      "3.407447453504384e+91 25952529.0 26212271.0index i: 507045\n",
      "2.5953186084472023e+91 45426.0 15726333.0index i: 596885\n",
      "2.5953186084472023e+91 726816.0 15726333.0index i: 596886\n",
      "2.5953186084472023e+91 1453632.0 15726333.0index i: 596887\n",
      "2.5953186084472023e+91 22713.0 15726333.0index i: 596888\n",
      "2.5953186084472023e+91 5814528.0 15726333.0index i: 596889\n",
      "2.5953186084472023e+91 90852.0 15726333.0index i: 596890\n",
      "2.5953186084472023e+91 11629056.0 15726333.0index i: 596891\n",
      "2.5953186084472023e+91 363408.0 15726333.0index i: 596892\n",
      "2.5953186084472023e+91 2907264.0 15726333.0index i: 596893\n",
      "2.5953186084472023e+91 23258112.0 15726333.0index i: 596894\n",
      "2.5953186084472023e+91 181704.0 15726333.0index i: 596895\n",
      "1.6165491799500115e+91 185385.0 16249853.0index i: 688031\n",
      "1.6165491799500115e+91 11864640.0 16249853.0index i: 688032\n",
      "1.6165491799500115e+91 2966160.0 16249853.0index i: 688033\n",
      "1.6165491799500115e+91 370770.0 16249853.0index i: 688034\n",
      "1.6165491799500115e+91 5932320.0 16249853.0index i: 688035\n",
      "1.6165491799500115e+91 23729280.0 16249853.0index i: 688036\n",
      "1.6165491799500115e+91 741540.0 16249853.0index i: 688037\n",
      "1.6165491799500115e+91 1483080.0 16249853.0index i: 688038\n",
      "1.0618224089776252e+91 18915664.0 19786719.0index i: 803397\n",
      "1.0618224089776252e+91 4728916.0 19786719.0index i: 803398\n",
      "1.0618224089776252e+91 9457832.0 19786719.0index i: 803399\n",
      "1.0618224089776252e+91 1182229.0 19786719.0index i: 803400\n",
      "1.0618224089776252e+91 2364458.0 19786719.0index i: 803401\n",
      "2.1356303079527263e+90 5555218.0 31940223.0index i: 954383\n",
      "2.1356303079527263e+90 22220872.0 31940223.0index i: 954384\n",
      "2.1356303079527263e+90 11110436.0 31940223.0index i: 954385\n",
      "2.1356303079527263e+90 2777609.0 31940223.0index i: 954386\n",
      "1.0309510690774877e+90 7386625.0 27655662.0index i: 1780219\n",
      "1.0309510690774877e+90 29546500.0 27655662.0index i: 1780220\n",
      "1.0309510690774877e+90 14773250.0 27655662.0index i: 1780221\n",
      "9.798511065363821e+89 2519344.0 13238254.0index i: 1861357\n",
      "9.798511065363821e+89 157459.0 13238254.0index i: 1861358\n",
      "9.798511065363821e+89 20154752.0 13238254.0index i: 1861359\n",
      "9.798511065363821e+89 1259672.0 13238254.0index i: 1861360\n",
      "9.798511065363821e+89 314918.0 13238254.0index i: 1861361\n",
      "9.798511065363821e+89 5038688.0 13238254.0index i: 1861362\n",
      "9.798511065363821e+89 629836.0 13238254.0index i: 1861363\n",
      "9.798511065363821e+89 10077376.0 13238254.0index i: 1861364\n",
      "1.4646169312268217e+89 28385560.0 18732541.0index i: 2005531\n",
      "1.4646169312268217e+89 14192780.0 18732541.0index i: 2005532\n",
      "1.4646169312268217e+89 7096390.0 18732541.0index i: 2005533\n",
      "1.4646169312268217e+89 3548195.0 18732541.0index i: 2005534\n",
      "1.3862885214922803e+89 1336366.0 30930727.0index i: 3120272\n",
      "1.3862885214922803e+89 21381856.0 30930727.0index i: 3120273\n",
      "1.3862885214922803e+89 10690928.0 30930727.0index i: 3120274\n",
      "1.3862885214922803e+89 5345464.0 30930727.0index i: 3120275\n",
      "1.3862885214922803e+89 668183.0 30930727.0index i: 3120276\n",
      "1.3862885214922803e+89 2672732.0 30930727.0index i: 3120277\n",
      "5.1224293350208024e+88 3113384.0 17154014.0index i: 3186870\n",
      "5.1224293350208024e+88 389173.0 17154014.0index i: 3186871\n",
      "5.1224293350208024e+88 6226768.0 17154014.0index i: 3186872\n",
      "5.1224293350208024e+88 1556692.0 17154014.0index i: 3186873\n",
      "5.1224293350208024e+88 24907072.0 17154014.0index i: 3186874\n",
      "5.1224293350208024e+88 12453536.0 17154014.0index i: 3186875\n",
      "5.1224293350208024e+88 778346.0 17154014.0index i: 3186876\n",
      "7.957171782556586e+87 6054041.0 24613627.0index i: 4393338\n",
      "7.957171782556586e+87 12108082.0 24613627.0index i: 4393339\n",
      "7.957171782556586e+87 24216164.0 24613627.0index i: 4393340\n",
      "4.10291670038074e+87 15193732.0 31421546.0index i: 13016080\n",
      "4.10291670038074e+87 3798433.0 31421546.0index i: 13016081\n",
      "4.10291670038074e+87 30387464.0 31421546.0index i: 13016082\n",
      "4.10291670038074e+87 7596866.0 31421546.0index i: 13016083\n",
      "2.4866161820489332e+86 21900920.0 5780895.0index i: 21411462\n",
      "2.4866161820489332e+86 2737615.0 5780895.0index i: 21411463\n",
      "2.4866161820489332e+86 10950460.0 5780895.0index i: 21411464\n",
      "2.4866161820489332e+86 5475230.0 5780895.0index i: 21411465\n"
     ]
    }
   ],
   "source": [
    "#now all in memory need to search and store the result on disk and go sleep:\n",
    "bestdiff=10**103;\n",
    "bestsolution=[0]*4;\n",
    "bestindex=0;\n",
    "for i in range(0,2**25):\n",
    "    remain=npr2[0][i]-1.3839820842041017e+102;\n",
    "    if(remain<0):\n",
    "        bestindex=binarySearch(npr[0],-1.0*remain);\n",
    "        newremain=npr[0][bestindex]+remain;\n",
    "        if(newremain>=0 and newremain<=bestdiff):\n",
    "            bestdiff=newremain;\n",
    "            #print(bestdiff)\n",
    "            bestsolution[0]=bestdiff;\n",
    "            bestsolution[1]=npr2[1][i];\n",
    "            bestsolution[2]=npr[1][bestindex]\n",
    "            print(str(bestdiff)+\" \"+str(bestsolution[1])+\" \"+str(bestsolution[2])+\"index i: \"+str(i));\n",
    "        elif(newremain<0):\n",
    "            #try another 5;\n",
    "            for k in range(1,5):\n",
    "                if(k+bestindex<len(npr[0])):\n",
    "                    newremain=newremain+npr[0][bestindex+k];\n",
    "                    if(newremain>0 and newremain<=bestdiff):\n",
    "                        bestdiff=newremain;\n",
    "                        bestsolution[0]=bestdiff;\n",
    "                        bestsolution[1]=npr2[1][i];\n",
    "                        bestsolution[2]=npr[1][bestindex+k]\n",
    "                        print(\"adjusted-\"+str(bestdiff)+\" \"+str(bestsolution[1])+\" \"+str(bestsolution[2])+\"index i: \"+str(i));\n",
    "    else:\n",
    "        break;\n",
    "with open('rst-best.data', 'wb') as handle:\n",
    "    pickle.dump(bestsolution, handle, protocol=pickle.HIGHEST_PROTOCOL)"
   ]
  },
  {
   "cell_type": "code",
   "execution_count": 770,
   "metadata": {
    "collapsed": true
   },
   "outputs": [],
   "source": [
    "goldlist=[0,\n",
    " 1,\n",
    " 2,\n",
    " 3,\n",
    " 4,\n",
    " 5,\n",
    " 7,\n",
    " 8,\n",
    " 11,\n",
    " 12,\n",
    " 14,\n",
    " 15,\n",
    " 17,\n",
    " 18,\n",
    " 19,\n",
    " 20,\n",
    " 22,\n",
    " 24,\n",
    " 25,\n",
    " 26,\n",
    " 27,\n",
    " 28,\n",
    " 30,\n",
    " 31,\n",
    " 32,\n",
    " 33,\n",
    " 34,\n",
    " 35,\n",
    " 36,\n",
    " 37]\n",
    "fixed1=[9,\n",
    " 10,\n",
    " 13,\n",
    " 38,\n",
    " 40,\n",
    " 41,\n",
    " 45,\n",
    " 46,\n",
    " 47,\n",
    " 48,\n",
    " 50,\n",
    " 51,\n",
    " 52,\n",
    " 53,\n",
    " 54,\n",
    " 55,\n",
    " 59,\n",
    " 62,\n",
    " 63,\n",
    " 64,\n",
    " 65,\n",
    " 67,\n",
    " 68,\n",
    " 70,\n",
    " 73,\n",
    " 76,\n",
    " 77]\n",
    "fixed2=[6,\n",
    " 16,\n",
    " 21,\n",
    " 23,\n",
    " 29,\n",
    " 39,\n",
    " 42,\n",
    " 43,\n",
    " 44,\n",
    " 49,\n",
    " 56,\n",
    " 57,\n",
    " 58,\n",
    " 60,\n",
    " 61,\n",
    " 66,\n",
    " 69,\n",
    " 71,\n",
    " 72,\n",
    " 74,\n",
    " 75,\n",
    " 78,\n",
    " 79,\n",
    " 81,\n",
    " 82,\n",
    " 83,\n",
    " 80]\n"
   ]
  },
  {
   "cell_type": "markdown",
   "metadata": {},
   "source": [
    "# explanation of my method"
   ]
  },
  {
   "cell_type": "markdown",
   "metadata": {},
   "source": [
    "The following is my final result which is 10**86 (4.9732323640978664e+86)\n",
    "so the idea I have been tried is random sampling, LLL and meet in the middle\n",
    "and meet in the middle give me the best result: so I split the data into 4 part each part has 25 items, so choose\n",
    "25 of them most from the begiining and ignore 25 most from end and split the remaining as equal half with 25 records,\n",
    "and I stored all the sum reocrds of those 2 25 records set and sort them and loop throught one of them and use binary \n",
    "search to find the \"best\" one in the other set , and switch the fixed set and do it again, (since the start point\n",
    "where you start will affect the result)\n"
   ]
  },
  {
   "cell_type": "markdown",
   "metadata": {},
   "source": [
    "# Solution"
   ]
  },
  {
   "cell_type": "code",
   "execution_count": 3,
   "metadata": {
    "collapsed": true
   },
   "outputs": [],
   "source": [
    "result=[1,\n",
    " 1,\n",
    " 0,\n",
    " 1,\n",
    " 1,\n",
    " 0,\n",
    " 1,\n",
    " 1,\n",
    " 1,\n",
    " 1,\n",
    " 0,\n",
    " 1,\n",
    " 0,\n",
    " 1,\n",
    " 1,\n",
    " 1,\n",
    " 1,\n",
    " 1,\n",
    " 0,\n",
    " 1,\n",
    " 0,\n",
    " 1,\n",
    " 1,\n",
    " 1,\n",
    " 0,\n",
    " 0,\n",
    " 0,\n",
    " 1,\n",
    " 0,\n",
    " 0,\n",
    " 1,\n",
    " 1,\n",
    " 0,\n",
    " 1,\n",
    " 1,\n",
    " 1,\n",
    " 1,\n",
    " 1,\n",
    " 1,\n",
    " 1,\n",
    " 1,\n",
    " 1,\n",
    " 0,\n",
    " 1,\n",
    " 1,\n",
    " 0,\n",
    " 0,\n",
    " 1,\n",
    " 1,\n",
    " 1,\n",
    " 1,\n",
    " 0,\n",
    " 0,\n",
    " 1,\n",
    " 0,\n",
    " 0,\n",
    " 0,\n",
    " 0,\n",
    " 0,\n",
    " 0,\n",
    " 0,\n",
    " 1,\n",
    " 1,\n",
    " 1,\n",
    " 1,\n",
    " 1,\n",
    " 1,\n",
    " 0,\n",
    " 1,\n",
    " 0,\n",
    " 1,\n",
    " 0,\n",
    " 0,\n",
    " 0,\n",
    " 0,\n",
    " 0,\n",
    " 0,\n",
    " 0,\n",
    " 0,\n",
    " 0,\n",
    " 1,\n",
    " 0,\n",
    " 0,\n",
    " 0,\n",
    " 0,\n",
    " 0,\n",
    " 0,\n",
    " 0,\n",
    " 0,\n",
    " 0,\n",
    " 0,\n",
    " 0,\n",
    " 0,\n",
    " 0,\n",
    " 0,\n",
    " 0,\n",
    " 0,\n",
    " 0,\n",
    " 0,\n",
    " 0]"
   ]
  },
  {
   "cell_type": "markdown",
   "metadata": {},
   "source": [
    "# validation"
   ]
  },
  {
   "cell_type": "code",
   "execution_count": 7,
   "metadata": {
    "collapsed": true
   },
   "outputs": [],
   "source": [
    "mlist=[1.259921049894873e+100,\n",
    " 1.4422495703074085e+100,\n",
    " 1.709975946676697e+100,\n",
    " 1.912931182772389e+100,\n",
    " 2.2239800905693154e+100,\n",
    " 2.3513346877207573e+100,\n",
    " 2.5712815906582355e+100,\n",
    " 2.6684016487219448e+100,\n",
    " 2.8438669798515655e+100,\n",
    " 3.0723168256858472e+100,\n",
    " 3.141380652391393e+100,\n",
    " 3.3322218516459534e+100,\n",
    " 3.4482172403827303e+100,\n",
    " 3.503398060386724e+100,\n",
    " 3.608826080138695e+100,\n",
    " 3.756285754221072e+100,\n",
    " 3.89299641587326e+100,\n",
    " 3.936497183102173e+100,\n",
    " 4.06154810044568e+100,\n",
    " 4.1408177494228534e+100,\n",
    " 4.179339196381232e+100,\n",
    " 4.2908404270262074e+100,\n",
    " 4.362070671454837e+100,\n",
    " 4.464745095584538e+100,\n",
    " 4.59470089220704e+100,\n",
    " 4.657009507803836e+100,\n",
    " 4.687548147653598e+100,\n",
    " 4.7474593985234e+100,\n",
    " 4.776856181035017e+100,\n",
    " 4.8345881271116396e+100,\n",
    " 5.026525695313479e+100,\n",
    " 5.0787530781327006e+100,\n",
    " 5.155136735475772e+100,\n",
    " 5.180101467380292e+100,\n",
    " 5.3014591923809045e+100,\n",
    " 5.325074021614987e+100,\n",
    " 5.394690712109591e+100,\n",
    " 5.462555571281398e+100,\n",
    " 5.506878446387353e+100,\n",
    " 5.572054655542623e+100,\n",
    " 5.6357407945442365e+100,\n",
    " 5.656652825822911e+100,\n",
    " 5.758965220492401e+100,\n",
    " 5.77899656515213e+100,\n",
    " 5.818647867496961e+100,\n",
    " 5.8382724608140025e+100,\n",
    " 5.953341813139051e+100,\n",
    " 6.0641269945069635e+100,\n",
    " 6.100170200393062e+100,\n",
    " 6.1180331726366206e+100,\n",
    " 6.153449493663682e+100,\n",
    " 6.2058217948957524e+100,\n",
    " 6.223084253206059e+100,\n",
    " 6.307993548663268e+100,\n",
    " 6.3578611797342006e+100,\n",
    " 6.406958577185558e+100,\n",
    " 6.455314810938886e+100,\n",
    " 6.4712736269603656e+100,\n",
    " 6.51868391517377e+100,\n",
    " 6.5499116201193754e+100,\n",
    " 6.5654144273461385e+100,\n",
    " 6.64185219534421e+100,\n",
    " 6.745996711705425e+100,\n",
    " 6.7751689522733126e+100,\n",
    " 6.789661336437484e+100,\n",
    " 6.81846194135301e+100,\n",
    " 6.917396416609225e+100,\n",
    " 6.958943337186095e+100,\n",
    " 7.027105788338388e+100,\n",
    " 7.040580616713472e+100,\n",
    " 7.067376614721955e+100,\n",
    " 7.10719366117256e+100,\n",
    " 7.159598824832771e+100,\n",
    " 7.198404996481965e+100,\n",
    " 7.236797215902505e+100,\n",
    " 7.262167439937969e+100,\n",
    " 7.299893662052676e+100,\n",
    " 7.349596596552508e+100,\n",
    " 7.374197940162813e+100,\n",
    " 7.422914120436216e+100,\n",
    " 7.482924114352578e+100,\n",
    " 7.494811225859052e+100,\n",
    " 7.55368882500193e+100,\n",
    " 7.565354772225129e+100,\n",
    " 7.60013850163107e+100,\n",
    " 7.623151930512917e+100,\n",
    " 7.657413747855265e+100,\n",
    " 7.702624618287352e+100,\n",
    " 7.725032379779305e+100,\n",
    " 7.736187676690783e+100,\n",
    " 7.75840226432052e+100,\n",
    " 7.824294185879082e+100,\n",
    " 7.867612960312844e+100,\n",
    " 7.88909460402381e+100,\n",
    " 7.931710391518468e+100,\n",
    " 7.952847627744924e+100,\n",
    " 7.984344382691074e+100,\n",
    " 8.04660299297347e+100,\n",
    " 8.056886202875549e+100,\n",
    " 8.148276449362263e+100]"
   ]
  },
  {
   "cell_type": "code",
   "execution_count": 8,
   "metadata": {
    "collapsed": true
   },
   "outputs": [],
   "source": [
    "sumall=0;\n",
    "for i in range(0,100):\n",
    "    sumall=sumall+result[i]*mlist[i]"
   ]
  },
  {
   "cell_type": "code",
   "execution_count": 9,
   "metadata": {
    "collapsed": true
   },
   "outputs": [],
   "source": [
    "target=2*112889478*(10**94)"
   ]
  },
  {
   "cell_type": "code",
   "execution_count": 10,
   "metadata": {},
   "outputs": [
    {
     "data": {
      "text/plain": [
       "4.9732323640978664e+86"
      ]
     },
     "execution_count": 10,
     "metadata": {},
     "output_type": "execute_result"
    }
   ],
   "source": [
    "sumall-target"
   ]
  },
  {
   "cell_type": "code",
   "execution_count": null,
   "metadata": {
    "collapsed": true
   },
   "outputs": [],
   "source": []
  }
 ],
 "metadata": {
  "kernelspec": {
   "display_name": "Python 3",
   "language": "python",
   "name": "python3"
  },
  "language_info": {
   "codemirror_mode": {
    "name": "ipython",
    "version": 3
   },
   "file_extension": ".py",
   "mimetype": "text/x-python",
   "name": "python",
   "nbconvert_exporter": "python",
   "pygments_lexer": "ipython3",
   "version": "3.6.1"
  }
 },
 "nbformat": 4,
 "nbformat_minor": 2
}
